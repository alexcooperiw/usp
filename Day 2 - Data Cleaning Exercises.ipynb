{
 "cells": [
  {
   "cell_type": "markdown",
   "metadata": {},
   "source": [
    "# Workshop day 2 - data preparation"
   ]
  },
  {
   "cell_type": "markdown",
   "metadata": {},
   "source": [
    "This script is used for breakout exercises during the workshop.\n",
    "Make sure to run the code section 'Preparation' before starting the exercises, in order to load required packages and to load and prepare the dataset."
   ]
  },
  {
   "cell_type": "markdown",
   "metadata": {},
   "source": [
    "Run this code section before you start with any exercise in order to load required packages and to load and prepare the dataset.\n",
    "\n",
    "### Import required packages\n",
    "__Required packages:__ \n",
    "* numpy\n",
    "* pandas  \n",
    "* matplotlib\n",
    "\n",
    "You can import packages using the \n",
    "\n",
    "    import\n",
    "\n",
    "command. In this module, we are working primarily with **pandas**, which is the standard package in Python for data manipulation.\n",
    "\n",
    "For visualization purposes, we will use **matplotlib** (the standard Python plotting library)."
   ]
  },
  {
   "cell_type": "code",
   "execution_count": null,
   "metadata": {},
   "outputs": [],
   "source": [
    "import numpy as np\n",
    "import pandas as pd\n",
    "import matplotlib.pyplot as plt\n",
    "pd.set_option('display.max.columns', 50)"
   ]
  },
  {
   "cell_type": "markdown",
   "metadata": {},
   "source": [
    "### Load data"
   ]
  },
  {
   "cell_type": "code",
   "execution_count": null,
   "metadata": {},
   "outputs": [],
   "source": [
    "churn_df = pd.read_csv(\"bankingchurn_data_prep.csv\")\n",
    "churn_df.head()"
   ]
  },
  {
   "cell_type": "markdown",
   "metadata": {},
   "source": [
    "As you can see, there are various NA values. Also, you should always ensure if columns have the proper data type (more on that in the field work exercises)."
   ]
  },
  {
   "cell_type": "markdown",
   "metadata": {},
   "source": [
    "<a id='sec41'></a>\n",
    "# Exercise 1: Eliminate outliers\n",
    "\n",
    "### Clean variable last_balance from outliers\n",
    "Visual inspection using a boxplot or a histogram.\n",
    "\n",
    "    plt.hist()\n",
    "    plt.boxplot()"
   ]
  },
  {
   "cell_type": "markdown",
   "metadata": {},
   "source": [
    "Let's include two reference lines into the histogram to make potential outliers more visible (2 standard deviations away from the mean)"
   ]
  },
  {
   "cell_type": "code",
   "execution_count": null,
   "metadata": {
    "scrolled": true
   },
   "outputs": [],
   "source": [
    "# Calculate mean and standard deviation of last_balance\n",
    "mean = churn_df.last_balance.mean()\n",
    "std = churn_df.last_balance.std()\n",
    "\n",
    "# Create the histogram of last_balance with two reference lines\n",
    "plt.hist(churn_df.last_balance, bins = 30)\n",
    "plt.axvline(mean - 2 * std, color='r', linestyle='dashed', linewidth=2)\n",
    "plt.axvline(mean + 2 * std, color='r', linestyle='dashed', linewidth=2)\n",
    "plt.show()"
   ]
  },
  {
   "cell_type": "code",
   "execution_count": null,
   "metadata": {},
   "outputs": [],
   "source": [
    "# Create the boxplot of last_balance\n",
    "plt.boxplot(churn_df.last_balance)\n",
    "plt.show()"
   ]
  },
  {
   "cell_type": "markdown",
   "metadata": {},
   "source": [
    "#### Compare with quartiles\n",
    "    describe(percentiles=[...]): you can define the percentiles which should be displayed in the summary analysis"
   ]
  },
  {
   "cell_type": "code",
   "execution_count": null,
   "metadata": {},
   "outputs": [],
   "source": [
    "# Use describe on last_balance with 1st, 5th, 25th, 50th, 75th, 95th and 99th percentiles\n",
    "churn_df.last_balance.describe(percentiles=[0.01, 0.05, 0.25, 0.5, 0.75, 0.95, 0.99])"
   ]
  },
  {
   "cell_type": "markdown",
   "metadata": {},
   "source": [
    "#### Based on the analyses, select appropriate thresholds and exclude them\n",
    "Be prepared to explain why you chose a specific value."
   ]
  },
  {
   "cell_type": "code",
   "execution_count": null,
   "metadata": {},
   "outputs": [],
   "source": [
    "#TASK: replace the '?????' with appropriate thresholds \n",
    "#TASK: use the 2nd line of code if you want to filter out high and low outliers\n",
    "data2 = churn_df.loc[churn_df.last_balance < ?????]\n",
    "#data2 = churn_df.loc[churn_df.last_balance.between(?????, ?????)]"
   ]
  },
  {
   "cell_type": "code",
   "execution_count": null,
   "metadata": {},
   "outputs": [],
   "source": [
    "#Re-create the histogram to review the new distribution after cleaning\n",
    "mean = data2.last_balance.mean()\n",
    "std = data2.last_balance.std()\n",
    "\n",
    "# Create the histogram of last_balance with two reference lines\n",
    "plt.hist(data2.last_balance, bins = 30)\n",
    "plt.axvline(mean - 2 * std, color='r', linestyle='dashed', linewidth=2)\n",
    "plt.axvline(mean + 2 * std, color='r', linestyle='dashed', linewidth=2)\n",
    "plt.show()"
   ]
  },
  {
   "cell_type": "markdown",
   "metadata": {},
   "source": [
    "<a id='sec43'></a>\n",
    "### Exercise 2: Handling missing values\n",
    "Most algorithms cannot deal with data gaps, like missing values or \"errors\". \n",
    "(meaning the information from the column is lost).\n",
    "\n",
    "We have to decide what we do with missing values. Some options are: \n",
    " - Exclude variables with NAs (e.g. using a threshold)\n",
    " - Removing rows with NAs \n",
    " - Consider NAs as a separate catogory\n",
    " - Impute missing values with an aggregated value (e.g. mean, median, min, max)\n",
    "\n"
   ]
  },
  {
   "cell_type": "markdown",
   "metadata": {},
   "source": [
    "#### Identify rows with missing values\n",
    "     \n",
    "     isna(): Check for missing values"
   ]
  },
  {
   "cell_type": "code",
   "execution_count": null,
   "metadata": {},
   "outputs": [],
   "source": [
    "# Count number of rows with missing values in each column\n",
    "churn_df.isna().sum()"
   ]
  },
  {
   "cell_type": "code",
   "execution_count": null,
   "metadata": {
    "scrolled": true
   },
   "outputs": [],
   "source": [
    "# Calculate the percentage of missingvalues for each column and assign to a data frame called 'missing_pct'\n",
    "missing_pct = churn_df.isna().mean().sort_values(ascending=False)\n",
    "\n",
    "# Filter 'missing_pct' for only columns which have any missing values\n",
    "missing_pct = missing_pct[missing_pct > 0]\n",
    "\n",
    "# Plot 'missing_pct'\n",
    "plt.figure(figsize=(5,5))\n",
    "sns.barplot(x=missing_pct, y=missing_pct.index, ci=None).\\\n",
    "    set_title('Percent of missing values per variable (only variables with missing values)')\n",
    "plt.show()"
   ]
  },
  {
   "attachments": {},
   "cell_type": "markdown",
   "metadata": {},
   "source": [
    "### Let's decide how to handle each of the 3 variables\n",
    "#### Contract end\n",
    "Variable contains the date a contract has ended.\n",
    "\n",
    "Pick one of the following actions:\n",
    "\n",
    "* Keep variable as is\n",
    "* Remove variable\n",
    "* Impute with median\n",
    "* Encode missing values as separate value"
   ]
  },
  {
   "cell_type": "markdown",
   "metadata": {},
   "source": [
    "#### Credit rating\n",
    "Contains the credit rating (i.e., the probability of  fulfilling a credit) of the customer, if they have any. Values can range from 0 to 100."
   ]
  },
  {
   "cell_type": "code",
   "execution_count": null,
   "metadata": {
    "scrolled": true
   },
   "outputs": [],
   "source": [
    "# Check the histogram and descriptives of credit rating\n",
    "plt.hist(churn_df.credit_rating, bins=30)\n",
    "churn_df.credit_rating.describe()"
   ]
  },
  {
   "cell_type": "markdown",
   "metadata": {},
   "source": [
    "Pick one of the following actions:\n",
    "\n",
    "* Keep variable as is\n",
    "* Remove variable\n",
    "* Impute with median\n",
    "* Encode missing values as a specific value\n",
    "\n",
    "#### Profession\n",
    "Contrains the description of the profession of a customer."
   ]
  },
  {
   "cell_type": "code",
   "execution_count": null,
   "metadata": {
    "scrolled": false
   },
   "outputs": [],
   "source": [
    "# Check the values that can appear in the profession column\n",
    "churn_df.profession.value_counts()"
   ]
  },
  {
   "cell_type": "markdown",
   "metadata": {},
   "source": [
    "Pick one of the following actions:\n",
    "\n",
    "* Keep variable as is\n",
    "* Remove variable\n",
    "* Impute with mode (most frequent value)\n",
    "* Encode missing values as separate category"
   ]
  },
  {
   "cell_type": "markdown",
   "metadata": {},
   "source": [
    "### Apply cleaning steps\n",
    "Fill in the variable names for each outlier treatment step based on your decision above."
   ]
  },
  {
   "cell_type": "code",
   "execution_count": null,
   "metadata": {},
   "outputs": [],
   "source": [
    "# Remove variable from dataset\n",
    "churn_df = churn_df.drop(columns='?????')"
   ]
  },
  {
   "cell_type": "code",
   "execution_count": null,
   "metadata": {},
   "outputs": [],
   "source": [
    "# Impute variable with the median value of the non NA entries\n",
    "median = churn_df['?????'].median()\n",
    "churn_df['?????'] = churn_df['?????'].fillna(median)"
   ]
  },
  {
   "cell_type": "code",
   "execution_count": null,
   "metadata": {},
   "outputs": [],
   "source": [
    "# Impute variable with the mode value (the most frequent value) of the non NA entries\n",
    "mode = churn_df['?????'].mode()\n",
    "churn_df['?????'] = churn_df['?????'].fillna(mode)"
   ]
  },
  {
   "cell_type": "code",
   "execution_count": null,
   "metadata": {},
   "outputs": [],
   "source": [
    "# Codify missing values as a separate category (\"unknown\")\n",
    "churn_df['?????'] = churn_df['????'].fillna('Unknown')"
   ]
  },
  {
   "cell_type": "markdown",
   "metadata": {},
   "source": [
    "# Well done!"
   ]
  }
 ],
 "metadata": {
  "kernelspec": {
   "display_name": "Python 3",
   "language": "python",
   "name": "python3"
  },
  "language_info": {
   "codemirror_mode": {
    "name": "ipython",
    "version": 3
   },
   "file_extension": ".py",
   "mimetype": "text/x-python",
   "name": "python",
   "nbconvert_exporter": "python",
   "pygments_lexer": "ipython3",
   "version": "3.6.9"
  }
 },
 "nbformat": 4,
 "nbformat_minor": 2
}

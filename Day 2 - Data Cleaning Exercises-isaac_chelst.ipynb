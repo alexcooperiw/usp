{
 "cells": [
  {
   "cell_type": "markdown",
   "metadata": {},
   "source": [
    "# Workshop day 2 - data preparation"
   ]
  },
  {
   "cell_type": "markdown",
   "metadata": {},
   "source": [
    "This script is used for breakout exercises during the workshop.\n",
    "Make sure to run the code section 'Preparation' before starting the exercises, in order to load required packages and to load and prepare the dataset."
   ]
  },
  {
   "cell_type": "markdown",
   "metadata": {},
   "source": [
    "Run this code section before you start with any exercise in order to load required packages and to load and prepare the dataset.\n",
    "\n",
    "### Import required packages\n",
    "__Required packages:__ \n",
    "* numpy\n",
    "* pandas  \n",
    "* matplotlib\n",
    "\n",
    "You can import packages using the \n",
    "\n",
    "    import\n",
    "\n",
    "command. In this module, we are working primarily with **pandas**, which is the standard package in Python for data manipulation.\n",
    "\n",
    "For visualization purposes, we will use **matplotlib** (the standard Python plotting library)."
   ]
  },
  {
   "cell_type": "code",
   "execution_count": 64,
   "metadata": {},
   "outputs": [],
   "source": [
    "import numpy as np\n",
    "import pandas as pd\n",
    "import matplotlib.pyplot as plt\n",
    "import seaborn as sns # Need to first run this line from the terminal: python -m pip install seaborn\n",
    "pd.set_option('display.max.columns', 50)\n",
    "\n",
    "from statsmodels.stats.weightstats import ztest\n",
    "from scipy.stats import pointbiserialr"
   ]
  },
  {
   "cell_type": "code",
   "execution_count": 76,
   "metadata": {},
   "outputs": [
    {
     "name": "stdout",
     "output_type": "stream",
     "text": [
      "[0 1 2 3 4 5 6]\n"
     ]
    }
   ],
   "source": [
    "b = np.arange(7)\n",
    "print(b)"
   ]
  },
  {
   "cell_type": "markdown",
   "metadata": {},
   "source": [
    "### Load data"
   ]
  },
  {
   "cell_type": "code",
   "execution_count": 55,
   "metadata": {},
   "outputs": [
    {
     "name": "stdout",
     "output_type": "stream",
     "text": [
      "  contract_start contract_end date_of_birth gender             profession  \\\n",
      "0     23/05/2010          NaN    10/09/1990      M  Professional Services   \n",
      "1     05/12/2009   27/05/2017    11/11/1985      W                    NaN   \n",
      "2     29/11/2012          NaN    15/11/1992      M         Transportation   \n",
      "3     23/07/2016          NaN    25/02/1994      W  Professional Services   \n",
      "4     01/05/2011          NaN    27/05/1990      W               Research   \n",
      "\n",
      "   size_household    ZIP segment  credit_rating  no_credit_rating_flag  \\\n",
      "0               1  76829      S2      89.568518                      0   \n",
      "1               1  35104      S2      94.270507                      0   \n",
      "2               1  63450      S2      93.030947                      0   \n",
      "3               2   9573      S3            NaN                      1   \n",
      "4               1  66916      S2      90.457664                      0   \n",
      "\n",
      "   main_account_flag  online_banking_flag  tele_banking_flag  creditcard_flag  \\\n",
      "0                  0                    0                  1                0   \n",
      "1                  0                    1                  1                1   \n",
      "2                  0                    1                  0                1   \n",
      "3                  1                    0                  0                1   \n",
      "4                  0                    1                  0                1   \n",
      "\n",
      "   insurance_life_flag  insurance_house_flag  insurance_car_flag  \\\n",
      "0                    0                     0                   1   \n",
      "1                    0                     0                   1   \n",
      "2                    0                     0                   1   \n",
      "3                    0                     0                   1   \n",
      "4                    0                     0                   1   \n",
      "\n",
      "   insurance_other_flag  mortgage_flag  portfolio_flag  last_balance  \\\n",
      "0                     1              1               0   38694.37688   \n",
      "1                     0              1               0   77755.18804   \n",
      "2                     0              1               0   46701.95649   \n",
      "3                     1              0               0   10917.78497   \n",
      "4                     0              0               0   26170.37285   \n",
      "\n",
      "   last_balance_minus_6_months  last_balance_minus_12_months  \\\n",
      "0                 57898.065530                   57993.54400   \n",
      "1                 67910.744170                   55259.32774   \n",
      "2                 52687.329260                   56011.57809   \n",
      "3                  9506.820862                   12194.65279   \n",
      "4                 29474.065530                   16830.99155   \n",
      "\n",
      "   income_salary_per_year  income_deposits_per_year  \\\n",
      "0                     0.0                       0.0   \n",
      "1                     0.0                       0.0   \n",
      "2                     0.0                       0.0   \n",
      "3                     0.0                       0.0   \n",
      "4                     0.0                       0.0   \n",
      "\n",
      "   income_securities_per_year  insurance_life_premium_per_month  \\\n",
      "0                         0.0                               0.0   \n",
      "1                         0.0                               0.0   \n",
      "2                         0.0                               0.0   \n",
      "3                         0.0                               0.0   \n",
      "4                         0.0                               0.0   \n",
      "\n",
      "   insurance_house_premium_per_year  insurance_car_premium_per_year  \\\n",
      "0                          0.000000                        0.000000   \n",
      "1                          0.000000                        0.000000   \n",
      "2                          0.000000                        0.000000   \n",
      "3                        486.580576                      335.884724   \n",
      "4                          0.000000                        0.000000   \n",
      "\n",
      "   mortgage_value  mortgage_interest  mortgage_downpayment  \\\n",
      "0             0.0                0.0                   0.0   \n",
      "1             0.0                0.0                   0.0   \n",
      "2             0.0                0.0                   0.0   \n",
      "3             0.0                0.0                   0.0   \n",
      "4             0.0                0.0                   0.0   \n",
      "\n",
      "   mortgage_dayuntilmaturity  mortgage_numbers  \\\n",
      "0                          0                 0   \n",
      "1                          0                 0   \n",
      "2                          0                 0   \n",
      "3                        104                 0   \n",
      "4                          0                 0   \n",
      "\n",
      "   online_number_of_logins_per_month  online_tranactions_per_month  \\\n",
      "0                                  0                             0   \n",
      "1                                 16                             8   \n",
      "2                                 26                            12   \n",
      "3                                  0                             0   \n",
      "4                                 23                            18   \n",
      "\n",
      "   advisor_contacts_last12months  customer_limit  cash_withdraws_per_month  \\\n",
      "0                              3          1000.0                         4   \n",
      "1                              2          1000.0                         7   \n",
      "2                              2          1000.0                         3   \n",
      "3                              4          1050.0                         4   \n",
      "4                              3          1000.0                         4   \n",
      "\n",
      "   cash_withdrawals_value  consumer_credit_value  consumer_credit_maturity  \\\n",
      "0              459.840940          -24011.393550                       205   \n",
      "1              476.334459           -5368.743068                       137   \n",
      "2              332.640202           -9678.713419                       624   \n",
      "3              378.324745          -12110.305920                      1263   \n",
      "4              471.509299               0.000000                       521   \n",
      "\n",
      "   account_fee  number_of_refusals  churn_flag  \n",
      "0           15                   6           0  \n",
      "1           15                   6           1  \n",
      "2           15                   4           0  \n",
      "3           10                   7           0  \n",
      "4           10                   3           0  \n",
      "0         1\n",
      "1         1\n",
      "2         1\n",
      "3         2\n",
      "4         1\n",
      "         ..\n",
      "99997     1\n",
      "99998     1\n",
      "99999     2\n",
      "100000    1\n",
      "100001    2\n",
      "Name: size_household, Length: 100002, dtype: int64\n"
     ]
    }
   ],
   "source": [
    "churn_df = pd.read_csv(\"bankingchurn_data_prep.csv\")\n",
    "print(churn_df.head())\n",
    "print(churn_df['size_household'])"
   ]
  },
  {
   "cell_type": "markdown",
   "metadata": {},
   "source": [
    "As you can see, there are various NA values. Also, you should always ensure if columns have the proper data type (more on that in the field work exercises)."
   ]
  },
  {
   "cell_type": "markdown",
   "metadata": {},
   "source": [
    "<a id='sec41'></a>\n",
    "# Exercise 1: Eliminate outliers\n",
    "\n",
    "### Clean variable last_balance from outliers\n",
    "Visual inspection using a boxplot or a histogram.\n",
    "\n",
    "    plt.hist()\n",
    "    plt.boxplot()"
   ]
  },
  {
   "cell_type": "markdown",
   "metadata": {},
   "source": [
    "Let's include two reference lines into the histogram to make potential outliers more visible (2 standard deviations away from the mean)"
   ]
  },
  {
   "cell_type": "code",
   "execution_count": 11,
   "metadata": {
    "scrolled": true
   },
   "outputs": [
    {
     "name": "stdout",
     "output_type": "stream",
     "text": [
      "50163.49901697714\n",
      "29405.029651477904\n"
     ]
    },
    {
     "data": {
      "image/png": "[encoded data removed]",
      "text/plain": [
       "<Figure size 432x288 with 1 Axes>"
      ]
     },
     "metadata": {
      "needs_background": "light"
     },
     "output_type": "display_data"
    }
   ],
   "source": [
    "# Calculate mean and standard deviation of last_balance\n",
    "mean = churn_df.last_balance.mean()\n",
    "print(mean)\n",
    "std = churn_df.last_balance.std()\n",
    "print(std)\n",
    "\n",
    "# Create the histogram of last_balance with two reference lines\n",
    "plt.hist(churn_df.last_balance, bins = 50)\n",
    "plt.axvline(mean - 2 * std, color='r', linestyle='dashed', linewidth=2)\n",
    "plt.axvline(mean + 2 * std, color='r', linestyle='dashed', linewidth=2)\n",
    "plt.show()"
   ]
  },
  {
   "cell_type": "code",
   "execution_count": 6,
   "metadata": {},
   "outputs": [
    {
     "data": {
      "image/png": "[encoded data removed]",
      "text/plain": [
       "<Figure size 432x288 with 1 Axes>"
      ]
     },
     "metadata": {
      "needs_background": "light"
     },
     "output_type": "display_data"
    }
   ],
   "source": [
    "# Create the boxplot of last_balance\n",
    "plt.boxplot(churn_df.last_balance)\n",
    "plt.show()"
   ]
  },
  {
   "cell_type": "markdown",
   "metadata": {},
   "source": [
    "#### Compare with quartiles\n",
    "    describe(percentiles=[...]): you can define the percentiles which should be displayed in the summary analysis"
   ]
  },
  {
   "cell_type": "code",
   "execution_count": 7,
   "metadata": {},
   "outputs": [
    {
     "data": {
      "text/plain": [
       "count    100002.000000\n",
       "mean      50163.499017\n",
       "std       29405.029651\n",
       "min      -27147.639430\n",
       "1%         2096.960122\n",
       "5%        13492.868775\n",
       "25%       30887.902165\n",
       "50%       44856.534740\n",
       "75%       62538.245455\n",
       "95%      106913.568525\n",
       "99%      150192.665137\n",
       "max      285314.507800\n",
       "Name: last_balance, dtype: float64"
      ]
     },
     "execution_count": 7,
     "metadata": {},
     "output_type": "execute_result"
    }
   ],
   "source": [
    "# Use describe on last_balance with 1st, 5th, 25th, 50th, 75th, 95th and 99th percentiles\n",
    "churn_df.last_balance.describe(percentiles=[0.01, 0.05, 0.25, 0.5, 0.75, 0.95, 0.99])"
   ]
  },
  {
   "cell_type": "markdown",
   "metadata": {},
   "source": [
    "#### Based on the analyses, select appropriate thresholds and exclude them\n",
    "Be prepared to explain why you chose a specific value."
   ]
  },
  {
   "cell_type": "code",
   "execution_count": 9,
   "metadata": {},
   "outputs": [],
   "source": [
    "#TASK: replace the '?????' with appropriate thresholds \n",
    "#TASK: use the 2nd line of code if you want to filter out high and low outliers\n",
    "data2 = churn_df.loc[churn_df.last_balance > 0]\n",
    "#data2 = churn_df.loc[churn_df.last_balance.between(?????, ?????)]"
   ]
  },
  {
   "cell_type": "code",
   "execution_count": 28,
   "metadata": {},
   "outputs": [
    {
     "name": "stdout",
     "output_type": "stream",
     "text": [
      "50563.85762627418\n",
      "29123.21761130785\n"
     ]
    },
    {
     "data": {
      "image/png": "[encoded data removed]",
      "text/plain": [
       "<Figure size 432x288 with 1 Axes>"
      ]
     },
     "metadata": {
      "needs_background": "light"
     },
     "output_type": "display_data"
    }
   ],
   "source": [
    "#Re-create the histogram to review the new distribution after cleaning\n",
    "mean = data2.last_balance.mean()\n",
    "print(mean)\n",
    "std = data2.last_balance.std()\n",
    "print(std)\n",
    "\n",
    "# Create the histogram of last_balance with two reference lines\n",
    "plt.hist(data2.last_balance, bins = 30)\n",
    "plt.axvline(mean - 2 * std, color='r', linestyle='dashed', linewidth=2)\n",
    "plt.axvline(mean + 2 * std, color='r', linestyle='dashed', linewidth=2)\n",
    "plt.axvline\n",
    "plt.show()"
   ]
  },
  {
   "cell_type": "markdown",
   "metadata": {},
   "source": [
    "<a id='sec43'></a>\n",
    "### Exercise 2: Handling missing values\n",
    "Most algorithms cannot deal with data gaps, like missing values or \"errors\". \n",
    "(meaning the information from the column is lost).\n",
    "\n",
    "We have to decide what we do with missing values. Some options are: \n",
    " - Exclude variables with NAs (e.g. using a threshold)\n",
    " - Removing rows with NAs \n",
    " - Consider NAs as a separate catogory\n",
    " - Impute missing values with an aggregated value (e.g. mean, median, min, max)\n",
    "\n"
   ]
  },
  {
   "cell_type": "markdown",
   "metadata": {},
   "source": [
    "#### Identify rows with missing values\n",
    "     \n",
    "     isna(): Check for missing values"
   ]
  },
  {
   "cell_type": "code",
   "execution_count": 20,
   "metadata": {},
   "outputs": [
    {
     "name": "stdout",
     "output_type": "stream",
     "text": [
      "contract_end                         95131\n",
      "credit_rating                        22484\n",
      "profession                            7729\n",
      "churn_flag                               0\n",
      "tele_banking_flag                        0\n",
      "portfolio_flag                           0\n",
      "mortgage_flag                            0\n",
      "insurance_other_flag                     0\n",
      "insurance_car_flag                       0\n",
      "insurance_house_flag                     0\n",
      "insurance_life_flag                      0\n",
      "creditcard_flag                          0\n",
      "main_account_flag                        0\n",
      "online_banking_flag                      0\n",
      "last_balance_minus_6_months              0\n",
      "no_credit_rating_flag                    0\n",
      "segment                                  0\n",
      "ZIP                                      0\n",
      "size_household                           0\n",
      "gender                                   0\n",
      "date_of_birth                            0\n",
      "last_balance                             0\n",
      "last_balance_minus_12_months             0\n",
      "number_of_refusals                       0\n",
      "income_salary_per_year                   0\n",
      "account_fee                              0\n",
      "consumer_credit_maturity                 0\n",
      "consumer_credit_value                    0\n",
      "cash_withdrawals_value                   0\n",
      "cash_withdraws_per_month                 0\n",
      "customer_limit                           0\n",
      "advisor_contacts_last12months            0\n",
      "online_tranactions_per_month             0\n",
      "online_number_of_logins_per_month        0\n",
      "mortgage_numbers                         0\n",
      "mortgage_dayuntilmaturity                0\n",
      "mortgage_downpayment                     0\n",
      "mortgage_interest                        0\n",
      "mortgage_value                           0\n",
      "insurance_car_premium_per_year           0\n",
      "insurance_house_premium_per_year         0\n",
      "insurance_life_premium_per_month         0\n",
      "income_securities_per_year               0\n",
      "income_deposits_per_year                 0\n",
      "contract_start                           0\n",
      "dtype: int64\n"
     ]
    }
   ],
   "source": [
    "# Count number of rows with missing values in each column\n",
    "churn_na_list = churn_df.isna().sum()\n",
    "print(churn_na_list.sort_values(ascending=False))"
   ]
  },
  {
   "cell_type": "code",
   "execution_count": 34,
   "metadata": {
    "scrolled": true
   },
   "outputs": [
    {
     "name": "stdout",
     "output_type": "stream",
     "text": [
      "contract_end     0.951291\n",
      "credit_rating    0.224836\n",
      "profession       0.077288\n",
      "dtype: float64\n"
     ]
    },
    {
     "data": {
      "image/png": "[encoded data removed]",
      "text/plain": [
       "<Figure size 360x360 with 1 Axes>"
      ]
     },
     "metadata": {
      "needs_background": "light"
     },
     "output_type": "display_data"
    }
   ],
   "source": [
    "# Calculate the percentage of missingvalues for each column and assign to a data frame called 'missing_pct'\n",
    "missing_pct = churn_df.isna().mean().sort_values(ascending=False)\n",
    "\n",
    "# Filter 'missing_pct' for only columns which have any missing values\n",
    "missing_pct = missing_pct[missing_pct > 0]\n",
    "\n",
    "print(missing_pct)\n",
    "\n",
    "# Plot 'missing_pct'\n",
    "plt.figure(figsize=(5,5))\n",
    "sns.barplot(x=missing_pct, y=missing_pct.index, ci=None).\\\n",
    "    set_title('Percent of missing values per variable (only variables with missing values)')\n",
    "plt.show()"
   ]
  },
  {
   "cell_type": "markdown",
   "metadata": {},
   "source": [
    "### Let's decide how to handle each of the 3 variables\n",
    "#### Contract end\n",
    "Variable contains the date a contract has ended.\n",
    "\n",
    "Pick one of the following actions:\n",
    "\n",
    "* Keep variable as is\n",
    "* Remove variable\n",
    "* Impute with median\n",
    "* Encode missing values as separate value"
   ]
  },
  {
   "cell_type": "markdown",
   "metadata": {},
   "source": [
    "#### Credit rating\n",
    "Contains the credit rating (i.e., the probability of  fulfilling a credit) of the customer, if they have any. Values can range from 0 to 100."
   ]
  },
  {
   "cell_type": "code",
   "execution_count": 37,
   "metadata": {
    "scrolled": true
   },
   "outputs": [
    {
     "data": {
      "text/plain": [
       "count    77518.000000\n",
       "mean        91.480888\n",
       "std          5.668561\n",
       "min         43.720633\n",
       "25%         88.680541\n",
       "50%         92.778048\n",
       "75%         95.653172\n",
       "max         99.495558\n",
       "Name: credit_rating, dtype: float64"
      ]
     },
     "execution_count": 37,
     "metadata": {},
     "output_type": "execute_result"
    },
    {
     "data": {
      "image/png": "[encoded data removed]",
      "text/plain": [
       "<Figure size 432x288 with 1 Axes>"
      ]
     },
     "metadata": {
      "needs_background": "light"
     },
     "output_type": "display_data"
    }
   ],
   "source": [
    "# Check the histogram and descriptives of credit rating\n",
    "plt.hist(churn_df.credit_rating, bins=30)\n",
    "churn_df.credit_rating.describe()"
   ]
  },
  {
   "cell_type": "code",
   "execution_count": 74,
   "metadata": {},
   "outputs": [
    {
     "name": "stdout",
     "output_type": "stream",
     "text": [
      "No issues with size_household for customers with and without a credit rating\n",
      "No issues with size_household for customers with and without a known profession\n",
      "No issues with credit_rating for customers with and without a known profession\n",
      "SIGNIFICANT DIFFERENCES ON no_credit_rating_flag FOR CUSTOMERS WITH AND WITHOUT A CREDIT RATING\n",
      "No issues with no_credit_rating_flag for customers with and without a known profession\n",
      "No issues with main_account_flag for customers with and without a credit rating\n",
      "No issues with main_account_flag for customers with and without a known profession\n",
      "No issues with online_banking_flag for customers with and without a credit rating\n",
      "No issues with online_banking_flag for customers with and without a known profession\n",
      "No issues with tele_banking_flag for customers with and without a credit rating\n",
      "No issues with tele_banking_flag for customers with and without a known profession\n",
      "No issues with creditcard_flag for customers with and without a credit rating\n",
      "No issues with creditcard_flag for customers with and without a known profession\n",
      "No issues with insurance_life_flag for customers with and without a credit rating\n",
      "No issues with insurance_life_flag for customers with and without a known profession\n",
      "No issues with insurance_house_flag for customers with and without a credit rating\n",
      "No issues with insurance_house_flag for customers with and without a known profession\n",
      "No issues with insurance_car_flag for customers with and without a credit rating\n",
      "No issues with insurance_car_flag for customers with and without a known profession\n",
      "No issues with insurance_other_flag for customers with and without a credit rating\n",
      "No issues with insurance_other_flag for customers with and without a known profession\n",
      "No issues with mortgage_flag for customers with and without a credit rating\n",
      "No issues with mortgage_flag for customers with and without a known profession\n",
      "No issues with portfolio_flag for customers with and without a credit rating\n",
      "No issues with portfolio_flag for customers with and without a known profession\n",
      "No issues with last_balance for customers with and without a credit rating\n",
      "No issues with last_balance for customers with and without a known profession\n",
      "No issues with last_balance_minus_6_months for customers with and without a credit rating\n",
      "No issues with last_balance_minus_6_months for customers with and without a known profession\n",
      "No issues with last_balance_minus_12_months for customers with and without a credit rating\n",
      "No issues with last_balance_minus_12_months for customers with and without a known profession\n",
      "No issues with income_salary_per_year for customers with and without a credit rating\n",
      "No issues with income_salary_per_year for customers with and without a known profession\n",
      "No issues with income_deposits_per_year for customers with and without a credit rating\n",
      "No issues with income_deposits_per_year for customers with and without a known profession\n",
      "No issues with income_securities_per_year for customers with and without a credit rating\n",
      "No issues with income_securities_per_year for customers with and without a known profession\n",
      "No issues with insurance_life_premium_per_month for customers with and without a credit rating\n",
      "No issues with insurance_life_premium_per_month for customers with and without a known profession\n",
      "No issues with insurance_house_premium_per_year for customers with and without a credit rating\n",
      "No issues with insurance_house_premium_per_year for customers with and without a known profession\n",
      "No issues with insurance_car_premium_per_year for customers with and without a credit rating\n",
      "SIGNIFICANT DIFFERENCES ON insurance_car_premium_per_year FOR CUSTOMERS WITH AND WITHOUT A KNOWN PROFESSION\n",
      "No issues with mortgage_value for customers with and without a credit rating\n",
      "No issues with mortgage_value for customers with and without a known profession\n",
      "No issues with mortgage_interest for customers with and without a credit rating\n",
      "No issues with mortgage_interest for customers with and without a known profession\n",
      "No issues with mortgage_downpayment for customers with and without a credit rating\n",
      "No issues with mortgage_downpayment for customers with and without a known profession\n",
      "No issues with mortgage_dayuntilmaturity for customers with and without a credit rating\n",
      "SIGNIFICANT DIFFERENCES ON mortgage_dayuntilmaturity FOR CUSTOMERS WITH AND WITHOUT A KNOWN PROFESSION\n",
      "No issues with mortgage_numbers for customers with and without a credit rating\n",
      "No issues with mortgage_numbers for customers with and without a known profession\n",
      "No issues with online_number_of_logins_per_month for customers with and without a credit rating\n",
      "No issues with online_number_of_logins_per_month for customers with and without a known profession\n",
      "No issues with online_tranactions_per_month for customers with and without a credit rating\n",
      "No issues with online_tranactions_per_month for customers with and without a known profession\n",
      "No issues with advisor_contacts_last12months for customers with and without a credit rating\n",
      "No issues with advisor_contacts_last12months for customers with and without a known profession\n",
      "No issues with customer_limit for customers with and without a credit rating\n",
      "No issues with customer_limit for customers with and without a known profession\n",
      "No issues with cash_withdraws_per_month for customers with and without a credit rating\n",
      "No issues with cash_withdraws_per_month for customers with and without a known profession\n",
      "No issues with cash_withdrawals_value for customers with and without a credit rating\n",
      "SIGNIFICANT DIFFERENCES ON cash_withdrawals_value FOR CUSTOMERS WITH AND WITHOUT A KNOWN PROFESSION\n",
      "No issues with consumer_credit_value for customers with and without a credit rating\n",
      "No issues with consumer_credit_value for customers with and without a known profession\n",
      "No issues with consumer_credit_maturity for customers with and without a credit rating\n",
      "No issues with consumer_credit_maturity for customers with and without a known profession\n",
      "No issues with account_fee for customers with and without a credit rating\n",
      "No issues with account_fee for customers with and without a known profession\n",
      "No issues with number_of_refusals for customers with and without a credit rating\n",
      "No issues with number_of_refusals for customers with and without a known profession\n",
      "No issues with churn_flag for customers with and without a credit rating\n",
      "No issues with churn_flag for customers with and without a known profession\n"
     ]
    },
    {
     "name": "stderr",
     "output_type": "stream",
     "text": [
      "/usr/local/lib/python3.6/dist-packages/statsmodels/stats/weightstats.py:655: RuntimeWarning: divide by zero encountered in double_scalars\n",
      "  zstat = (value1 - value2 - diff) / std_diff\n"
     ]
    }
   ],
   "source": [
    "no_credit_rating = churn_df[churn_df.credit_rating.isna()]\n",
    "no_profession = churn_df[churn_df.profession.isna()]\n",
    "yes_credit_rating = churn_df[churn_df.credit_rating.notna()]\n",
    "yes_profession = churn_df[churn_df.profession.notna()]\n",
    "\n",
    "# z, pvalue = ztest(no_credit_rating['size_household'], yes_credit_rating['size_household'])\n",
    "\n",
    "# print(z)\n",
    "# print(pvalue)\n",
    "\n",
    "for col in churn_df.columns:   \n",
    "    if(churn_df[col].dtype != \"object\"):\n",
    "        if col != \"credit_rating\":\n",
    "            r, pval = ztest(no_credit_rating[col], yes_credit_rating[col])\n",
    "            if pval<0.05:\n",
    "                print(\"SIGNIFICANT DIFFERENCES ON {} FOR CUSTOMERS WITH AND WITHOUT A CREDIT RATING\".format(col))\n",
    "            else:\n",
    "                print(\"No issues with {} for customers with and without a credit rating\".format(col))\n",
    "        \n",
    "        r, pval = ztest(no_profession[col], yes_profession[col])\n",
    "        if pval<0.05:\n",
    "            print(\"SIGNIFICANT DIFFERENCES ON {} FOR CUSTOMERS WITH AND WITHOUT A KNOWN PROFESSION\".format(col))\n",
    "        else:\n",
    "            print(\"No issues with {} for customers with and without a known profession\".format(col))"
   ]
  },
  {
   "cell_type": "code",
   "execution_count": 91,
   "metadata": {},
   "outputs": [
    {
     "data": {
      "text/plain": [
       "contract_start                        object\n",
       "contract_end                          object\n",
       "date_of_birth                         object\n",
       "gender                                object\n",
       "profession                            object\n",
       "size_household                         int64\n",
       "ZIP                                   object\n",
       "segment                               object\n",
       "credit_rating                        float64\n",
       "no_credit_rating_flag                  int64\n",
       "main_account_flag                      int64\n",
       "online_banking_flag                    int64\n",
       "tele_banking_flag                      int64\n",
       "creditcard_flag                        int64\n",
       "insurance_life_flag                    int64\n",
       "insurance_house_flag                   int64\n",
       "insurance_car_flag                     int64\n",
       "insurance_other_flag                   int64\n",
       "mortgage_flag                          int64\n",
       "portfolio_flag                         int64\n",
       "last_balance                         float64\n",
       "last_balance_minus_6_months          float64\n",
       "last_balance_minus_12_months         float64\n",
       "income_salary_per_year               float64\n",
       "income_deposits_per_year             float64\n",
       "income_securities_per_year           float64\n",
       "insurance_life_premium_per_month     float64\n",
       "insurance_house_premium_per_year     float64\n",
       "insurance_car_premium_per_year       float64\n",
       "mortgage_value                       float64\n",
       "mortgage_interest                    float64\n",
       "mortgage_downpayment                 float64\n",
       "mortgage_dayuntilmaturity              int64\n",
       "mortgage_numbers                       int64\n",
       "online_number_of_logins_per_month      int64\n",
       "online_tranactions_per_month           int64\n",
       "advisor_contacts_last12months          int64\n",
       "customer_limit                       float64\n",
       "cash_withdraws_per_month               int64\n",
       "cash_withdrawals_value               float64\n",
       "consumer_credit_value                float64\n",
       "consumer_credit_maturity               int64\n",
       "account_fee                            int64\n",
       "number_of_refusals                     int64\n",
       "churn_flag                             int64\n",
       "dtype: object"
      ]
     },
     "execution_count": 91,
     "metadata": {},
     "output_type": "execute_result"
    }
   ],
   "source": [
    "churn_df.dtypes!= \"object\""
   ]
  },
  {
   "cell_type": "markdown",
   "metadata": {},
   "source": [
    "Pick one of the following actions:\n",
    "\n",
    "* Keep variable as is\n",
    "* Remove variable\n",
    "* Impute with median\n",
    "* Encode missing values as a specific value\n",
    "\n",
    "#### Profession\n",
    "Contrains the description of the profession of a customer."
   ]
  },
  {
   "cell_type": "code",
   "execution_count": 38,
   "metadata": {},
   "outputs": [
    {
     "data": {
      "text/plain": [
       "Journalism                3780\n",
       "Other                     1963\n",
       "Food Service              1960\n",
       "Maint                     1954\n",
       "Retiree                   1941\n",
       "Insurance                 1940\n",
       "Design                    1937\n",
       "Health Care               1931\n",
       "Telecommunications        1925\n",
       "Retail                    1919\n",
       "Admin & Clerical          1918\n",
       "Real Estate               1912\n",
       "Purchasing                1907\n",
       "Information Technology    1907\n",
       "Accounting                1907\n",
       "Procurement               1906\n",
       "Customer Service          1905\n",
       "General Business          1905\n",
       "Sales                     1901\n",
       "Hospitality               1898\n",
       "Marketing                 1898\n",
       "Transportation            1896\n",
       "Business Development      1895\n",
       "Media                     1890\n",
       "Finance                   1889\n",
       "Construction              1885\n",
       "Management                1883\n",
       "Engineering               1883\n",
       "Hotel                     1882\n",
       "Science                   1878\n",
       "Automotive                1874\n",
       "Grocery                   1871\n",
       "Government                1869\n",
       "Human Resources           1869\n",
       "Nurse                     1868\n",
       "Pharmaceutical            1868\n",
       "Student                   1863\n",
       "Shipping                  1862\n",
       "Legal                     1861\n",
       "Installation              1835\n",
       "Nonprofit                 1828\n",
       "Professional Services     1821\n",
       "Education                 1821\n",
       "Distribution              1814\n",
       "Research                  1808\n",
       "Manufacturing             1791\n",
       "Banking                   1786\n",
       "Consultant                1769\n",
       "Name: profession, dtype: int64"
      ]
     },
     "execution_count": 38,
     "metadata": {},
     "output_type": "execute_result"
    }
   ],
   "source": [
    "# Check the values that can appear in the profession column\n",
    "churn_df.profession.value_counts()"
   ]
  },
  {
   "cell_type": "code",
   "execution_count": 41,
   "metadata": {},
   "outputs": [
    {
     "data": {
      "text/plain": [
       "13/01/2018    23\n",
       "20/02/2017    22\n",
       "05/09/2017    21\n",
       "12/01/2018    21\n",
       "17/06/2017    21\n",
       "              ..\n",
       "10/03/2017     6\n",
       "01/10/2017     6\n",
       "01/11/2017     5\n",
       "05/02/2017     5\n",
       "31/12/2017     4\n",
       "Name: contract_end, Length: 365, dtype: int64"
      ]
     },
     "execution_count": 41,
     "metadata": {},
     "output_type": "execute_result"
    }
   ],
   "source": [
    "# Check the values that can appear in the contract_end column\n",
    "churn_df.contract_end.value_counts()"
   ]
  },
  {
   "cell_type": "markdown",
   "metadata": {},
   "source": [
    "Pick one of the following actions:\n",
    "\n",
    "* Keep variable as is\n",
    "* Remove variable\n",
    "* Impute with mode (most frequent value)\n",
    "* Encode missing values as separate category"
   ]
  },
  {
   "cell_type": "markdown",
   "metadata": {},
   "source": [
    "### Apply cleaning steps\n",
    "Fill in the variable names for each outlier treatment step based on your decision above."
   ]
  },
  {
   "cell_type": "code",
   "execution_count": 42,
   "metadata": {},
   "outputs": [],
   "source": [
    "# Remove variable from dataset\n",
    "churn_df = churn_df.drop(columns='contract_end') # Real reason to remove is that it is actually tied directly to the churn indicator. If you have this value, you churned."
   ]
  },
  {
   "cell_type": "code",
   "execution_count": 43,
   "metadata": {},
   "outputs": [
    {
     "data": {
      "text/plain": [
       "count    100002.000000\n",
       "mean         91.772536\n",
       "std           5.020082\n",
       "min          43.720633\n",
       "25%          90.116320\n",
       "50%          92.778048\n",
       "75%          94.865077\n",
       "max          99.495558\n",
       "Name: credit_rating, dtype: float64"
      ]
     },
     "execution_count": 43,
     "metadata": {},
     "output_type": "execute_result"
    },
    {
     "data": {
      "image/png": "[encoded data removed]",
      "text/plain": [
       "<Figure size 432x288 with 1 Axes>"
      ]
     },
     "metadata": {
      "needs_background": "light"
     },
     "output_type": "display_data"
    }
   ],
   "source": [
    "# Impute variable with the median value of the non NA entries\n",
    "median = churn_df['credit_rating'].median()\n",
    "churn_df['credit_rating'] = churn_df['credit_rating'].fillna(median) # Ignores the fact that credit_ratings are a normalized model, and that a bank should not be missing this field\n",
    "plt.hist(churn_df.credit_rating, bins=30)\n",
    "churn_df.credit_rating.describe()"
   ]
  },
  {
   "cell_type": "code",
   "execution_count": null,
   "metadata": {},
   "outputs": [],
   "source": [
    "# Impute variable with the mode value (the most frequent value) of the non NA entries\n",
    "# mode = churn_df['?????'].mode()\n",
    "# churn_df['?????'] = churn_df['?????'].fillna(mode)"
   ]
  },
  {
   "cell_type": "code",
   "execution_count": 40,
   "metadata": {},
   "outputs": [
    {
     "data": {
      "text/plain": [
       "Unknown                   7729\n",
       "Journalism                3780\n",
       "Other                     1963\n",
       "Food Service              1960\n",
       "Maint                     1954\n",
       "Retiree                   1941\n",
       "Insurance                 1940\n",
       "Design                    1937\n",
       "Health Care               1931\n",
       "Telecommunications        1925\n",
       "Retail                    1919\n",
       "Admin & Clerical          1918\n",
       "Real Estate               1912\n",
       "Accounting                1907\n",
       "Information Technology    1907\n",
       "Purchasing                1907\n",
       "Procurement               1906\n",
       "Customer Service          1905\n",
       "General Business          1905\n",
       "Sales                     1901\n",
       "Hospitality               1898\n",
       "Marketing                 1898\n",
       "Transportation            1896\n",
       "Business Development      1895\n",
       "Media                     1890\n",
       "Finance                   1889\n",
       "Construction              1885\n",
       "Engineering               1883\n",
       "Management                1883\n",
       "Hotel                     1882\n",
       "Science                   1878\n",
       "Automotive                1874\n",
       "Grocery                   1871\n",
       "Government                1869\n",
       "Human Resources           1869\n",
       "Nurse                     1868\n",
       "Pharmaceutical            1868\n",
       "Student                   1863\n",
       "Shipping                  1862\n",
       "Legal                     1861\n",
       "Installation              1835\n",
       "Nonprofit                 1828\n",
       "Professional Services     1821\n",
       "Education                 1821\n",
       "Distribution              1814\n",
       "Research                  1808\n",
       "Manufacturing             1791\n",
       "Banking                   1786\n",
       "Consultant                1769\n",
       "Name: profession, dtype: int64"
      ]
     },
     "execution_count": 40,
     "metadata": {},
     "output_type": "execute_result"
    }
   ],
   "source": [
    "# Codify missing values as a separate category (\"unknown\")\n",
    "churn_df['profession'] = churn_df['profession'].fillna('Unknown')\n",
    "churn_df.profession.value_counts()"
   ]
  },
  {
   "cell_type": "markdown",
   "metadata": {},
   "source": [
    "# Well done!"
   ]
  }
 ],
 "metadata": {
  "kernelspec": {
   "display_name": "Python 3",
   "language": "python",
   "name": "python3"
  },
  "language_info": {
   "codemirror_mode": {
    "name": "ipython",
    "version": 3
   },
   "file_extension": ".py",
   "mimetype": "text/x-python",
   "name": "python",
   "nbconvert_exporter": "python",
   "pygments_lexer": "ipython3",
   "version": "3.6.9"
  }
 },
 "nbformat": 4,
 "nbformat_minor": 4
}

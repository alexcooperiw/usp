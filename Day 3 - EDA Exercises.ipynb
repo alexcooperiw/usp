{
 "cells": [
  {
   "cell_type": "markdown",
   "metadata": {},
   "source": [
    "# Day 3 - EDA Exercises"
   ]
  },
  {
   "cell_type": "markdown",
   "metadata": {},
   "source": [
    "__Description:__\n",
    "* <a href = '#sec1'>Preliminary</a>\n",
    "* <a href = '#sec4'>Exercise 1: Investigate relationships and distributions</a> \n",
    "    * <a href = '#sec41'>1.1 Distribution of a single input variable </a> \n",
    "    * <a href = '#sec42'>1.2 Relationship between a numeric input and a categorical target</a> \n",
    "    * <a href = '#sec43'>1.3 Relationship between a categorical input and a categorical target</a> \n",
    "* <a href = '#sec5'>Exercise 2: Understand relationship between input variables</a>"
   ]
  },
  {
   "cell_type": "markdown",
   "metadata": {},
   "source": [
    "----\n",
    "<a id='sec1'></a>\n",
    "# Preliminary\n",
    "\n",
    "### Import required packages and change directory "
   ]
  },
  {
   "cell_type": "code",
   "execution_count": 1,
   "metadata": {},
   "outputs": [],
   "source": [
    "import os\n",
    "import numpy as np\n",
    "import pandas as pd\n",
    "import matplotlib.pyplot as plt\n",
    "import seaborn as sns\n",
    "\n",
    "# Set working directory\n",
    "#os.chdir(default_path)"
   ]
  },
  {
   "cell_type": "markdown",
   "metadata": {},
   "source": [
    "### Load data"
   ]
  },
  {
   "cell_type": "code",
   "execution_count": 2,
   "metadata": {},
   "outputs": [],
   "source": [
    "# Load the data\n",
    "churn_df = pd.read_pickle(\"churn_for_engineering.p\")"
   ]
  },
  {
   "cell_type": "markdown",
   "metadata": {},
   "source": [
    "-------\n",
    "<a id='sec4'></a>\n",
    "\n",
    "# Exercise 1: Investigate relationships and distributions \n",
    "### Exercises:\n",
    "\n",
    "1. Distribution of a single variable\n",
    "   * Create a distribution plot of the numeric input variable **cash_withdrawals_value**. \n",
    "   * Create a countplot of the categorical input variable **segment**.\n",
    "2. Numeric input / Categorical target: From the list of possible chart types, select the one to best investigate the relationship between the numeric variable **cash_withdrawals_value** and our target **churn_flag**.\n",
    "   * Barplot\n",
    "   * Boxplot\n",
    "   * Violinplot\n",
    "   * Stripplot\n",
    "   * Kernel Density Plot\n",
    "   * Catplot\n",
    "3. Categorical input / Categorical target: From the list of possible chart types, select the chart type to best investigate the relationship between the categorical variable **segment** and our target **churn_flag**.\n",
    "   * Countplot\n",
    "   * Contigency table\n",
    "   * Stacked Barplot"
   ]
  },
  {
   "cell_type": "markdown",
   "metadata": {},
   "source": [
    "<a id='sec41'></a>\n",
    "### 1.1 Distribution of a single input variable\n",
    "* Distribution plot\n",
    "* Countplot\n",
    "\n",
    "### Distributionplot\n",
    "__sns.distplot():__ The distplot shows the distribution of a univariate set of observations. It's suitable for visualising numeric variables."
   ]
  },
  {
   "cell_type": "code",
   "execution_count": null,
   "metadata": {},
   "outputs": [],
   "source": [
    "#TASK: Create the distribution plot of the \"cash_withdrawals_value\" variable and selects a bin size of 50\n",
    "sns.distplot(churn_df.??????, bins = ??)\n",
    "\n",
    "# Add title\n",
    "plt.title(\"Distribution of cash withdrawals value\")\n",
    "\n",
    "# Add labels\n",
    "plt.ylabel(\"Density\")"
   ]
  },
  {
   "cell_type": "markdown",
   "metadata": {},
   "source": [
    "### Countplot\n",
    "\n",
    "__sns.countplot():__ Counts the number of occurrences for each unique value of a variable. It's suitable to visualize categorical data. The __palette__ parameter lets you chose a different color."
   ]
  },
  {
   "cell_type": "code",
   "execution_count": null,
   "metadata": {},
   "outputs": [],
   "source": [
    "#TASK: Create the count plot with categorical input variable \"segment\" and use the \"autumn\" color palette\n",
    "sns.countplot(x = ?????, data = churn_df, palette = ?????)"
   ]
  },
  {
   "cell_type": "markdown",
   "metadata": {},
   "source": [
    "<a id='sec42'></a>\n",
    "### 1.2 Relationship between a numeric input and a categorical target\n",
    "* Barplot\n",
    "* Boxplot\n",
    "* Violinplot\n",
    "* Stripplot\n",
    "* Kernel density plot\n",
    "* Catplot"
   ]
  },
  {
   "cell_type": "markdown",
   "metadata": {},
   "source": [
    "### Barplot\n",
    "\n",
    "__sns.barplot():__ General plot that allows you to aggregate the categorical data based off some function, by default the mean."
   ]
  },
  {
   "cell_type": "code",
   "execution_count": null,
   "metadata": {},
   "outputs": [],
   "source": [
    "sns.barplot(x=\"churn_flag\", y= 'cash_withdrawals_value', data=churn_df, palette='Set1')"
   ]
  },
  {
   "cell_type": "markdown",
   "metadata": {},
   "source": [
    "### Boxplot\n",
    "\n",
    "__sns.boxplot():__ A box plot shows the distribution of quantitative data in a way that facilitates comparisons between variables or across levels of a categorical variable. Outliers can easily be identified using the inter-quartile range."
   ]
  },
  {
   "cell_type": "code",
   "execution_count": null,
   "metadata": {},
   "outputs": [],
   "source": [
    "sns.boxplot(x=\"churn_flag\", y= 'cash_withdrawals_value', data=churn_df, palette='Set2')"
   ]
  },
  {
   "cell_type": "markdown",
   "metadata": {},
   "source": [
    "### Violinplot\n",
    "\n",
    "__sns.violinplot():__ A violin plot plays a similar role as a box and whisker plot. It shows the distribution of quantitative data across several levels of one (or more) categorical variables such that those distributions can be compared. Unlike a box plot, in which all of the plot components correspond to actual datapoints, the violin plot features a kernel density estimation of the underlying distribution."
   ]
  },
  {
   "cell_type": "code",
   "execution_count": null,
   "metadata": {},
   "outputs": [],
   "source": [
    "sns.violinplot(x=\"churn_flag\", y= 'cash_withdrawals_value', data=churn_df, palette='rainbow')"
   ]
  },
  {
   "cell_type": "markdown",
   "metadata": {},
   "source": [
    "### Stripplot\n",
    "__sns.stripplot:__ The stripplot will draw a scatterplot where one variable is categorical. A strip plot can be drawn on its own, but it is also a good complement to a box or violin plot in cases where you want to show all observations along with some representation of the underlying distribution."
   ]
  },
  {
   "cell_type": "code",
   "execution_count": null,
   "metadata": {},
   "outputs": [],
   "source": [
    "sns.stripplot(x=\"churn_flag\", y= 'cash_withdrawals_value', data=churn_df, palette='coolwarm',jitter=True)"
   ]
  },
  {
   "cell_type": "markdown",
   "metadata": {},
   "source": [
    "### Kernel density plot\n",
    "__sns.kdeplot:__ Fits and plots a univariate or bivariate kernel density estimate."
   ]
  },
  {
   "cell_type": "code",
   "execution_count": null,
   "metadata": {},
   "outputs": [],
   "source": [
    "sns.kdeplot(churn_df[churn_df['churn_flag']==1]['cash_withdrawals_value'])\n",
    "sns.kdeplot(churn_df[churn_df['churn_flag']==0]['cash_withdrawals_value'])\n",
    "plt.title(\"cash_withdrawals_value\")\n",
    "plt.legend(['churn_flag:1','churn_flag:0'], loc='upper right')\n",
    "plt.show()"
   ]
  },
  {
   "cell_type": "markdown",
   "metadata": {},
   "source": [
    "### Catplot\n",
    "__sns.catplot:__ catplot is the most general form of a categorical plot. It can take in a kind parameter to adjust the plot type (e.g. box, violin, bar, count, strip, swarm). "
   ]
  },
  {
   "cell_type": "code",
   "execution_count": null,
   "metadata": {},
   "outputs": [],
   "source": [
    "sns.catplot(x = \"churn_flag\", y = 'cash_withdrawals_value', data = churn_df,\n",
    "            kind = \"box\", height = 2.5, aspect = 4)"
   ]
  },
  {
   "cell_type": "code",
   "execution_count": null,
   "metadata": {},
   "outputs": [],
   "source": [
    "#TASK: From the above 6 plots, select one which you believe best represents the relationship between churn and withdrawal value.  Give your reasons.\n",
    "\n",
    "\n",
    "\n"
   ]
  },
  {
   "cell_type": "markdown",
   "metadata": {},
   "source": [
    "<a id='sec43'></a>\n",
    "### 1.3 Relationship between a categorical input and a categorical target\n",
    "\n",
    "* Contigency tables\n",
    "* Barplot\n",
    "* Countplot\n",
    "* Stacked Bar Chart"
   ]
  },
  {
   "cell_type": "markdown",
   "metadata": {},
   "source": [
    "### Contigency tables"
   ]
  },
  {
   "cell_type": "code",
   "execution_count": null,
   "metadata": {},
   "outputs": [],
   "source": [
    "# Margin parameter additionally shows all totals\n",
    "two_way = pd.crosstab(index=churn_df[\"segment\"], columns=churn_df[\"churn_flag\"], margins=True)\n",
    "two_way"
   ]
  },
  {
   "cell_type": "markdown",
   "metadata": {},
   "source": [
    "### Barplot\n",
    "We can compare the churn rate in each segment by using a barplot. For this we need to convert the categorical target variable to a numeric data type. However, we always need to complement this visualisation with the frequency count in each category. "
   ]
  },
  {
   "cell_type": "code",
   "execution_count": null,
   "metadata": {},
   "outputs": [],
   "source": [
    "sns.barplot(x=\"segment\", y = pd.to_numeric(churn_df['churn_flag']), data= churn_df, palette='Set1')"
   ]
  },
  {
   "cell_type": "code",
   "execution_count": null,
   "metadata": {},
   "outputs": [],
   "source": [
    "# Churn rate by segment\n",
    "churn_df.groupby(['segment','churn_flag'])['churn_flag'].count()"
   ]
  },
  {
   "cell_type": "code",
   "execution_count": null,
   "metadata": {},
   "outputs": [],
   "source": [
    "# Frequency count in each segment\n",
    "churn_df['segment'].value_counts()"
   ]
  },
  {
   "cell_type": "markdown",
   "metadata": {},
   "source": [
    "### Countplot"
   ]
  },
  {
   "cell_type": "code",
   "execution_count": null,
   "metadata": {},
   "outputs": [],
   "source": [
    "sns.countplot(x = 'segment', hue = 'churn_flag', data = churn_df, palette = 'ocean')"
   ]
  },
  {
   "cell_type": "markdown",
   "metadata": {},
   "source": [
    "### Stacked Barplot"
   ]
  },
  {
   "cell_type": "code",
   "execution_count": null,
   "metadata": {},
   "outputs": [],
   "source": [
    "two_way.plot(kind=\"bar\", stacked=True)"
   ]
  },
  {
   "cell_type": "code",
   "execution_count": null,
   "metadata": {},
   "outputs": [],
   "source": [
    "#TASK: From the above 4 plots, select one which you believe best represents the relationship between churn and segment.  Give your reasons.\n",
    "\n",
    "\n",
    "\n"
   ]
  },
  {
   "cell_type": "markdown",
   "metadata": {},
   "source": [
    "-------\n",
    "<a id='sec5'></a>\n",
    "## Exercise 2: Understand the relationship between input variables\n",
    "- Scatterplot\n",
    "- Jointplot\n",
    "- Pairplot\n",
    "- Facet Grid\n",
    "- Correlation heatmap\n",
    "- Clustermap"
   ]
  },
  {
   "cell_type": "markdown",
   "metadata": {},
   "source": [
    "### Scatterplot\n",
    "\n",
    "__sns.scatterplot:__ Draws a scatter plot with possibility of several semantic groupings. "
   ]
  },
  {
   "cell_type": "code",
   "execution_count": 4,
   "metadata": {},
   "outputs": [
    {
     "data": {
      "text/plain": [
       "<matplotlib.axes._subplots.AxesSubplot at 0x2049d42c0f0>"
      ]
     },
     "execution_count": 4,
     "metadata": {},
     "output_type": "execute_result"
    },
    {
     "data": {
      "image/png": "[encoded data removed]",
      "text/plain": [
       "<Figure size 432x288 with 1 Axes>"
      ]
     },
     "metadata": {
      "needs_background": "light"
     },
     "output_type": "display_data"
    }
   ],
   "source": [
    "#TASK: Generate a scatter plot for \"last_balance\" and \"income_salary_per_year\"\n",
    "sns.scatterplot(x='last_balance', y='income_salary_per_year', data= churn_df)"
   ]
  },
  {
   "cell_type": "markdown",
   "metadata": {},
   "source": [
    "### Jointplot\n",
    "\n",
    "__jointplot():__ allows you to basically match up two distplots for bivariate data. With your choice of what **kind** parameter to compare with: \n",
    "* “scatter” \n",
    "* “reg” \n",
    "* “resid” \n",
    "* “kde” \n",
    "* “hex”"
   ]
  },
  {
   "cell_type": "code",
   "execution_count": null,
   "metadata": {},
   "outputs": [],
   "source": [
    "#TASK: Generate a jointplot plot for \"last_balance\" and \"income_salary_per_year\"\n",
    "sns.jointplot(x=?????, y=????, data= churn_df, kind='reg')"
   ]
  },
  {
   "cell_type": "markdown",
   "metadata": {},
   "source": [
    "### Pairplot\n",
    "\n",
    "__sns.pairplot:__ Plots pairwise relationships across an entire dataframe (for the numerical columns) and supports a color hue argument (for categorical columns)."
   ]
  },
  {
   "cell_type": "code",
   "execution_count": null,
   "metadata": {},
   "outputs": [],
   "source": [
    "#TASK: Generate a pair plot for 'last_balance', 'income_deposits_per_year', 'cash_withdrawals_value', 'churn_flag'\n",
    "columns_to_plot = ['last_balance', 'income_deposits_per_year', 'cash_withdrawals_value', 'churn_flag']"
   ]
  },
  {
   "cell_type": "code",
   "execution_count": null,
   "metadata": {},
   "outputs": [],
   "source": [
    "sns.pairplot(churn_df[?????], hue='churn_flag',palette='coolwarm')"
   ]
  },
  {
   "cell_type": "markdown",
   "metadata": {},
   "source": [
    "### Facet Grid\n",
    "\n",
    "FacetGrid is the general way to create grids of plots based off of a feature:"
   ]
  },
  {
   "cell_type": "code",
   "execution_count": null,
   "metadata": {},
   "outputs": [],
   "source": [
    "churn_df.head()"
   ]
  },
  {
   "cell_type": "code",
   "execution_count": null,
   "metadata": {},
   "outputs": [],
   "source": [
    "# TASK: Create a facet grid for variables gender and churn_flag for investigating the distribution of cash_withdrawals_value\n",
    "sns.set(style=\"darkgrid\")\n",
    "g = sns.FacetGrid(churn_df, row=????, col=????, margin_titles=True)\n",
    "g.map(plt.hist, 'cash_withdrawals_value', color=\"steelblue\")"
   ]
  },
  {
   "cell_type": "markdown",
   "metadata": {},
   "source": [
    "### Correlation heatmap"
   ]
  },
  {
   "cell_type": "markdown",
   "metadata": {},
   "source": [
    "#### Correlation heatmap of selected numeric input variables\n",
    "    corr()\n",
    "    sns.heatmap()"
   ]
  },
  {
   "cell_type": "code",
   "execution_count": null,
   "metadata": {},
   "outputs": [],
   "source": [
    "data_subset = ['size_household', 'last_balance', 'income_salary_per_year',\n",
    "               'income_deposits_per_year', 'online_number_of_logins_per_month',\n",
    "               'online_tranactions_per_month', 'advisor_contacts_last12months',\n",
    "               'customer_limit', 'cash_withdrawals_value', 'consumer_credit_value',\n",
    "               'consumer_credit_maturity', 'account_fee', 'number_of_refusals']"
   ]
  },
  {
   "cell_type": "code",
   "execution_count": null,
   "metadata": {},
   "outputs": [],
   "source": [
    "#TASK: Create a correlation heatmap for the 12 variables in 'data_subset'\n",
    "corr = churn_df[?????].corr();\n",
    "sns.heatmap(corr);"
   ]
  },
  {
   "cell_type": "markdown",
   "metadata": {},
   "source": [
    "###  Bonus Exercise: Improve formatting of correlation plot"
   ]
  },
  {
   "cell_type": "code",
   "execution_count": null,
   "metadata": {},
   "outputs": [],
   "source": [
    "#TASK:  Improve the visual appeal of the chart by showing just the lower left section of the correlation heatmap above\n",
    "mask = np.triu(np.ones_like(corr, dtype=np.bool))\n",
    "sns.heatmap(corr, mask=mask);"
   ]
  },
  {
   "cell_type": "markdown",
   "metadata": {},
   "source": [
    "#### Add labels and change color scheme\n",
    "    annot\n",
    "    cmap\n",
    "    plt.subplots(figsize=(x,y)): increase figure size to x-by-y inches"
   ]
  },
  {
   "cell_type": "code",
   "execution_count": null,
   "metadata": {},
   "outputs": [],
   "source": [
    "#TASK: Add labels to the correlation heatmap and change the color scheme by setting camp=\"RdBu_r\"\n",
    "\n",
    "plt.subplots(figsize=(10,10))\n",
    "ax = sns.heatmap(corr, mask=mask, annot=True, fmt='.2f',\n",
    "            vmin=-1, vmax=1, center=0,\n",
    "            cmap=\"RdBu_r\", square=True, linewidths=.5, cbar_kws={\"shrink\": .5})\n",
    "\n",
    "# The current versions of matplotlib and seaborn have a bug, cutting off parts of the first and last rows.\n",
    "# We can fix this manually using the lines below\n",
    "bottom, top = ax.get_ylim()\n",
    "ax.set_ylim(bottom + 0.5, top - 0.5)"
   ]
  },
  {
   "cell_type": "markdown",
   "metadata": {},
   "source": [
    "### Clustermap\n",
    "Seaborn also provides a\n",
    "\n",
    "    clustermap()\n",
    "\n",
    "which sorts the variables by their correlation structure. This makes it easier to identify overarching relationships in the data."
   ]
  },
  {
   "cell_type": "code",
   "execution_count": null,
   "metadata": {},
   "outputs": [],
   "source": [
    "#TASK: Sort values by their correlation structure\n",
    "sns.clustermap(corr)"
   ]
  },
  {
   "cell_type": "markdown",
   "metadata": {},
   "source": [
    "We can add the same formatting options like in the heatmap."
   ]
  },
  {
   "cell_type": "code",
   "execution_count": null,
   "metadata": {},
   "outputs": [],
   "source": [
    "sns.clustermap(corr, annot=True, fmt='.2f', figsize=(10,10),\n",
    "            vmin=-1, vmax=1, center=0,\n",
    "            cmap=\"RdBu_r\", square=True, linewidths=.5)"
   ]
  },
  {
   "cell_type": "markdown",
   "metadata": {},
   "source": [
    "# Good job!"
   ]
  }
 ],
 "metadata": {
  "kernelspec": {
   "display_name": "Python 3",
   "language": "python",
   "name": "python3"
  },
  "language_info": {
   "codemirror_mode": {
    "name": "ipython",
    "version": 3
   },
   "file_extension": ".py",
   "mimetype": "text/x-python",
   "name": "python",
   "nbconvert_exporter": "python",
   "pygments_lexer": "ipython3",
   "version": "3.7.4"
  }
 },
 "nbformat": 4,
 "nbformat_minor": 2
}

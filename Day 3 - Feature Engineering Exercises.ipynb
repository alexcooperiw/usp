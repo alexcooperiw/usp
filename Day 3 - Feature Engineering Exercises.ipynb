{
 "cells": [
  {
   "cell_type": "markdown",
   "metadata": {},
   "source": [
    "# AA - Feature Engineering"
   ]
  },
  {
   "cell_type": "markdown",
   "metadata": {},
   "source": [
    "There are several ways how to select relevant variables. Standard analysis include:\n",
    "\n",
    "__Description:__\n",
    "* <a href = '#sec1'>Preliminary</a>\n",
    "* <a href = '#sec2'> Feature Engineering </a>\n",
    "* <a href = '#sec21'> Exercise 1: Calculations </a>\n",
    "* <a href = '#sec22'> Exercise 2: Transformations </a>\n",
    "    * <a href = '#sec221'> 1.Binary encoding </a>\n",
    "    * <a href = '#sec222'> 2.One-hot encoding </a>\n",
    "    * <a href = '#sec223'> 3.Log transformation</a>\n",
    "    * <a href = '#sec224'> 4.Standardization </a>"
   ]
  },
  {
   "cell_type": "markdown",
   "metadata": {},
   "source": [
    "------------\n",
    "<a id='sec1'></a>\n",
    "# Preliminary\n",
    "\n",
    "#### Import required packages and change directory "
   ]
  },
  {
   "cell_type": "code",
   "execution_count": null,
   "metadata": {},
   "outputs": [],
   "source": [
    "import numpy as np\n",
    "import pandas as pd\n",
    "import matplotlib.pyplot as plt\n",
    "import seaborn as sns\n",
    "from sklearn import preprocessing\n",
    "from sklearn import feature_selection, model_selection\n",
    "\n",
    "# Displays max. 100 rows\n",
    "pd.set_option('display.max_columns', 100)\n",
    "\n",
    "# Set working directory\n",
    "#os.chdir(default_path)"
   ]
  },
  {
   "cell_type": "markdown",
   "metadata": {},
   "source": [
    "#### Load the working file"
   ]
  },
  {
   "cell_type": "code",
   "execution_count": null,
   "metadata": {},
   "outputs": [],
   "source": [
    "# Load the data\n",
    "churn_df = pd.read_pickle(\"churn_for_engineering.p\")"
   ]
  },
  {
   "cell_type": "markdown",
   "metadata": {},
   "source": [
    "------------\n",
    "<a id='sec2'></a>\n",
    "# Feature Engineering\n",
    "This process is called feature engineering (i.e., variable creation), by\n",
    "taking existing variables and calculating new ones out of these. Let's take a quick look at the existing variables:"
   ]
  },
  {
   "cell_type": "code",
   "execution_count": null,
   "metadata": {},
   "outputs": [],
   "source": [
    "churn_df.head(10)"
   ]
  },
  {
   "cell_type": "markdown",
   "metadata": {},
   "source": [
    "<a id='sec21'></a>\n",
    "## Exercise 1: Calculations\n",
    "Based on the three hypothesis, which features would your create to test the hypothesis? How would you visualize the relationship with the new feature and the target variable?\n",
    "\n",
    "* __Hypothesis 1:__ Older people are more likely to churn.\n",
    "* __Hypothesis 2:__ People with sudden change in transaction behaviour are more likely to churn.\n",
    "* __Hypothesis 3:__ People with a shorter tenure are less loyal and more likely to churn.\n"
   ]
  },
  {
   "cell_type": "markdown",
   "metadata": {},
   "source": [
    "---\n",
    "\n",
    "### Hypothesis 1: Older people are more likely to churn."
   ]
  },
  {
   "cell_type": "markdown",
   "metadata": {},
   "source": [
    "**Calculation of time difference**\n",
    "\n",
    "For the calculation of 'age' we need to calculate the time difference between the date_of_birth and the current date.\n",
    "\n",
    "    pd.to_datetime(\"now\"): Returnes the current timestamp (date and hour)"
   ]
  },
  {
   "cell_type": "code",
   "execution_count": null,
   "metadata": {},
   "outputs": [],
   "source": [
    "# Calculate the current datetime\n",
    "curr_time = pd.to_datetime(\"now\")\n",
    "curr_time"
   ]
  },
  {
   "cell_type": "code",
   "execution_count": null,
   "metadata": {},
   "outputs": [],
   "source": [
    "#TASK: Calculate the time difference between the current datetime and the date_of_birth\n",
    "churn_df['age'] = ?????\n",
    "churn_df['age'].head()"
   ]
  },
  {
   "cell_type": "markdown",
   "metadata": {},
   "source": [
    "We see that the output is a timestamp. To retrieve the actual age of a customer, we additionally need to:\n",
    "* __dt.days():__ Extract the number of days only\n",
    "* Convert days into years by dividing the number of days by __365.25__\n",
    "* Format the numbers correctly\n",
    "    * __round(0):__ Rounds the number to have 0 digits\n",
    "    * __astype(np.int64):__ Converts the number to integer"
   ]
  },
  {
   "cell_type": "code",
   "execution_count": null,
   "metadata": {},
   "outputs": [],
   "source": [
    "churn_df['age'] = (churn_df['age'].dt.days/365.25).round(0).astype(np.int64)\n",
    "churn_df['age'].head()"
   ]
  },
  {
   "cell_type": "code",
   "execution_count": null,
   "metadata": {},
   "outputs": [],
   "source": [
    "# Deletes the column as we won't need it anymore\n",
    "del churn_df['date_of_birth']"
   ]
  },
  {
   "cell_type": "markdown",
   "metadata": {},
   "source": [
    "### Visual inspection of new feature with target"
   ]
  },
  {
   "cell_type": "code",
   "execution_count": null,
   "metadata": {},
   "outputs": [],
   "source": [
    "#TASK: Generate a box plot to compare age distributions for churners and non-churners\n",
    "sns.boxplot(x=????, y= ?????, data=churn_df, palette='Set2')"
   ]
  },
  {
   "cell_type": "code",
   "execution_count": null,
   "metadata": {},
   "outputs": [],
   "source": [
    "#TASK: Generate a KD plot to compare age distributions for churners and non-churners\n",
    "sns.kdeplot(churn_df[churn_df[????]==1][????])\n",
    "sns.kdeplot(churn_df[churn_df[????]==0][????])\n",
    "plt.title(\"age\")\n",
    "plt.legend(['churn_flag:1','churn_flag:0'], loc='upper right')\n",
    "plt.show()"
   ]
  },
  {
   "cell_type": "markdown",
   "metadata": {},
   "source": [
    "### Conclusion: \n"
   ]
  },
  {
   "cell_type": "code",
   "execution_count": null,
   "metadata": {},
   "outputs": [],
   "source": [
    "#TASK:  Write down your conclussions regarding the hypothesis that older people are more likely to churn.\n",
    "\n",
    "\n"
   ]
  },
  {
   "cell_type": "markdown",
   "metadata": {},
   "source": [
    "---\n",
    "\n",
    "### Hypothesis 2: People with sudden change in transaction behaviour are more likely to churn."
   ]
  },
  {
   "cell_type": "code",
   "execution_count": null,
   "metadata": {},
   "outputs": [],
   "source": [
    "#TASK: Describe what you think could be used to describe a change in transaction behaviour from our data\n",
    "\n",
    "\n",
    "\n"
   ]
  },
  {
   "cell_type": "code",
   "execution_count": null,
   "metadata": {},
   "outputs": [],
   "source": [
    "# Maybe the growth in the last balance over the last 6 months?\n",
    "churn_df['last_balance_growth_6M'] = 100*(churn_df['last_balance'] - churn_df['last_balance_minus_6_months'])/abs(churn_df['last_balance_minus_6_months'])"
   ]
  },
  {
   "cell_type": "markdown",
   "metadata": {},
   "source": [
    "### Visual inspection of new feature with target"
   ]
  },
  {
   "cell_type": "code",
   "execution_count": null,
   "metadata": {},
   "outputs": [],
   "source": [
    "#TASK: Generate a box plot to compare the balance growth over the last 6 months for churners and non-churners\n",
    "sns.boxplot(x=????, y= ??????, data=churn_df, palette='Set2')"
   ]
  },
  {
   "cell_type": "code",
   "execution_count": null,
   "metadata": {},
   "outputs": [],
   "source": [
    "#TASK: Generate a KD plot to compare the balance growth over the last 6 months for churners and non-churners\n",
    "sns.kdeplot(churn_df[churn_df[?????]==0][?????])\n",
    "plt.title(\"last_balance_growth_6M\")\n",
    "plt.legend(['churn_flag:1','churn_flag:0'], loc='upper right')\n",
    "plt.show()"
   ]
  },
  {
   "cell_type": "markdown",
   "metadata": {},
   "source": [
    "#### Visual inspection doesn't allow any conclusions yet. There seem to be significant outliers which we should remove first. Some of the outliers are due to the fact that we calculate a growth rate using positive and negative values."
   ]
  },
  {
   "cell_type": "code",
   "execution_count": null,
   "metadata": {},
   "outputs": [],
   "source": [
    "# Compare with quartiles\n",
    "churn_df.last_balance_growth_6M.describe(percentiles=[0.01, 0.05, 0.25, 0.5, 0.75, 0.95, 0.99])"
   ]
  },
  {
   "cell_type": "code",
   "execution_count": null,
   "metadata": {},
   "outputs": [],
   "source": [
    "#TASK: Choose threshold to remove outliers\n",
    "churn_df = churn_df.loc[((churn_df.last_balance_growth_6M > ?????) & (churn_df.last_balance_growth_6M < ?????))]"
   ]
  },
  {
   "cell_type": "code",
   "execution_count": null,
   "metadata": {},
   "outputs": [],
   "source": [
    "sns.boxplot(x=\"churn_flag\", y= 'last_balance_growth_6M', data=churn_df, palette='Set2')"
   ]
  },
  {
   "cell_type": "code",
   "execution_count": null,
   "metadata": {},
   "outputs": [],
   "source": [
    "sns.kdeplot(churn_df[churn_df['churn_flag']==1]['last_balance_growth_6M'])\n",
    "sns.kdeplot(churn_df[churn_df['churn_flag']==0]['last_balance_growth_6M'])\n",
    "plt.title(\"last_balance_growth_6M\")\n",
    "plt.legend(['churn_flag:1','churn_flag:0'], loc='upper right')\n",
    "plt.show()"
   ]
  },
  {
   "cell_type": "markdown",
   "metadata": {},
   "source": [
    "### Conclusion:  "
   ]
  },
  {
   "cell_type": "code",
   "execution_count": null,
   "metadata": {},
   "outputs": [],
   "source": [
    "#TASK:  Write down your conclussions regarding the hypothesis that a sudden change in transaction behaviour indicates a likeliness to churn\n",
    "\n",
    "\n"
   ]
  },
  {
   "cell_type": "markdown",
   "metadata": {},
   "source": [
    "---\n",
    "\n",
    "### Hypothesis 3: People with a shorter tenure are less loyal and more likely to churn.\n",
    "\n",
    "The tenure is calculated as follows:\n",
    "* **Customer has churned:** Time difference between the contract_end and contract_start\n",
    "* **Customer has not churned:** Time difference between the current date and contract_start"
   ]
  },
  {
   "cell_type": "code",
   "execution_count": null,
   "metadata": {},
   "outputs": [],
   "source": [
    "#TASK: Calculate tenure for customers who have churned and those who have not\n",
    "curr_time = pd.to_datetime(\"now\")\n",
    "churn_df['tenure_churn'] = ((churn_df[?????] - churn_df[??????]).dt.days/365.25).round(0).fillna(0).astype(np.int64)\n",
    "churn_df['tenure_nochurn'] = ((curr_time - churn_df[?????]).dt.days/365.25).round(0).astype(np.int64)"
   ]
  },
  {
   "cell_type": "code",
   "execution_count": null,
   "metadata": {},
   "outputs": [],
   "source": [
    "#TASK: Create one tenure variable depending whether the customer has churned or not\n",
    "churn_df['tenure'] = np.where(churn_df[????]==1, churn_df['tenure_churn'] , churn_df['tenure_nochurn'])\n",
    "\n",
    "# Delete as we don't need it anymore\n",
    "del churn_df['contract_start']\n",
    "del churn_df['contract_end']\n",
    "del churn_df['tenure_churn']\n",
    "del churn_df['tenure_nochurn']"
   ]
  },
  {
   "cell_type": "markdown",
   "metadata": {},
   "source": [
    "### Visual inspection of new feature with target"
   ]
  },
  {
   "cell_type": "code",
   "execution_count": null,
   "metadata": {},
   "outputs": [],
   "source": [
    "#TASK: Generate a box plot to compare the tenure for churners and non-churners\n",
    "sns.boxplot(x=?????, y= ?????, data=churn_df, palette='Set2')"
   ]
  },
  {
   "cell_type": "code",
   "execution_count": null,
   "metadata": {},
   "outputs": [],
   "source": [
    "#TASK: Generate a KD plot to compare the tenure for churners and non-churners\n",
    "sns.kdeplot(churn_df[churn_df[?????]==1][?????])\n",
    "sns.kdeplot(churn_df[churn_df[?????]==0][?????])\n",
    "plt.title(\"tenure\")\n",
    "plt.legend(['churn_flag:1','churn_flag:0'], loc='upper right')\n",
    "plt.show()"
   ]
  },
  {
   "cell_type": "markdown",
   "metadata": {},
   "source": [
    "### Conclusion: "
   ]
  },
  {
   "cell_type": "code",
   "execution_count": null,
   "metadata": {},
   "outputs": [],
   "source": [
    "#TASK:  Write down your conclussions regarding the hypothesis that people with a lower tenure at the bank are more likely to churn\n",
    "\n"
   ]
  },
  {
   "cell_type": "markdown",
   "metadata": {},
   "source": [
    "------------\n",
    "<a id='sec22'></a>\n",
    "## Exercise 2: Transformations\n",
    "\n",
    "Some machine learning models work only on numerical variables. In order to use categorical variable, they need to be transformed into numerical values.\n",
    "- Binary encoding\n",
    "- One-hot encoding\n",
    "\n",
    "Numerical variables can be transformed to improve model performance! Commonly applied transformations are:\n",
    "- Log transformations\n",
    "- Standardization"
   ]
  },
  {
   "cell_type": "markdown",
   "metadata": {},
   "source": [
    "<a id='sec221'></a>\n",
    "### 1. Binary encoding\n",
    "\n",
    "Binary encodings are a special case of categoric features (such as gender). It transforms the category levels, currently present as strings, into binary code."
   ]
  },
  {
   "cell_type": "code",
   "execution_count": null,
   "metadata": {},
   "outputs": [],
   "source": [
    "churn_df['gender'].head(5)"
   ]
  },
  {
   "cell_type": "code",
   "execution_count": null,
   "metadata": {},
   "outputs": [],
   "source": [
    "#TASK: Create a new feature called male by applying binary encoding to the gender variable\n",
    "churn_df['male'] = churn_df[?????].map( {'M':1, 'W':0} ).astype('category')\n",
    "del churn_df['gender']"
   ]
  },
  {
   "cell_type": "code",
   "execution_count": null,
   "metadata": {},
   "outputs": [],
   "source": [
    "# Display transformed column\n",
    "churn_df['male'].head()"
   ]
  },
  {
   "cell_type": "markdown",
   "metadata": {},
   "source": [
    "<a id='sec222'></a>\n",
    "### 2. One-hot encoding\n",
    "One-hot encoding converts each category value into a new column and assigns a 1 or 0 value to the column. There are many libraries out there that support one-hot encoding but the simplest one is using pandas get_dummies() method.\n",
    "\n",
    "    pd.get_dummies: Convert categorical variable into dummy/indicator variables.\n"
   ]
  },
  {
   "cell_type": "markdown",
   "metadata": {},
   "source": [
    "#### Apply one-hot encoding to categorical variable profession"
   ]
  },
  {
   "cell_type": "markdown",
   "metadata": {},
   "source": [
    "We see that the majority of customers are engaged in an 'Unknown' profession and Journalism. The rest is equally distributed across the other professions."
   ]
  },
  {
   "cell_type": "code",
   "execution_count": null,
   "metadata": {},
   "outputs": [],
   "source": [
    "# Number of unique professions\n",
    "churn_df['profession'].value_counts()"
   ]
  },
  {
   "cell_type": "code",
   "execution_count": null,
   "metadata": {},
   "outputs": [],
   "source": [
    "# Variable profession before one-hot encoding\n",
    "churn_df['profession'].head(10)"
   ]
  },
  {
   "cell_type": "code",
   "execution_count": null,
   "metadata": {},
   "outputs": [],
   "source": [
    "# TASK: apply one-hot encoding to the 'profession' variable\n",
    "# The prefix parameter defines the prefix for the newly created binary variables\n",
    "x = pd.get_dummies(churn_df[?????], prefix='prof').head(5)\n",
    "x"
   ]
  },
  {
   "cell_type": "markdown",
   "metadata": {},
   "source": [
    "To concatenate these new features with the existing data, do the following:"
   ]
  },
  {
   "cell_type": "code",
   "execution_count": null,
   "metadata": {},
   "outputs": [],
   "source": [
    "churn_df = pd.concat([churn_df, pd.get_dummies(churn_df['profession'], prefix='prof').astype('category')], axis=1)"
   ]
  },
  {
   "cell_type": "markdown",
   "metadata": {},
   "source": [
    "#### Apply one-hot encoding to categorical variable segment"
   ]
  },
  {
   "cell_type": "code",
   "execution_count": null,
   "metadata": {},
   "outputs": [],
   "source": [
    "# TASK: apply one-hot encoding to the 'segment' variable\n",
    "churn_df = pd.concat([churn_df, pd.get_dummies(churn_df[?????], prefix='segment').astype('category')], axis=1)"
   ]
  },
  {
   "cell_type": "code",
   "execution_count": null,
   "metadata": {},
   "outputs": [],
   "source": [
    "del churn_df['profession']\n",
    "del churn_df['segment']"
   ]
  },
  {
   "cell_type": "markdown",
   "metadata": {},
   "source": [
    "#### Remove variable ZIP Code"
   ]
  },
  {
   "cell_type": "markdown",
   "metadata": {},
   "source": [
    "The categorical variable **ZIP Code** has more than 16055 levels. It would not make sense to create a binary variable for each level. Instead one could search for geographic or demographic variables based on these zipcodes and merge it to the data set (e.g. city, income distribution, age range etc.) to add more valueable features. However, for demonstration purposes we will just remove the variable."
   ]
  },
  {
   "cell_type": "code",
   "execution_count": null,
   "metadata": {},
   "outputs": [],
   "source": [
    "churn_df.ZIP.nunique()"
   ]
  },
  {
   "cell_type": "code",
   "execution_count": null,
   "metadata": {},
   "outputs": [],
   "source": [
    "del churn_df['ZIP']"
   ]
  },
  {
   "cell_type": "markdown",
   "metadata": {},
   "source": [
    "<a id='sec223'></a>\n",
    "### 3. Log transformation\n",
    "Log transformations are commonly applied on skewed data to make it more normally distributed. This makes predictions more consistent between high and low values.\n",
    "\n",
    "    np.log(): Natural logarithm, element-wise"
   ]
  },
  {
   "cell_type": "markdown",
   "metadata": {},
   "source": [
    "#### Apply log-transformation to numeric variable cash_withdrawals_value"
   ]
  },
  {
   "cell_type": "code",
   "execution_count": null,
   "metadata": {},
   "outputs": [],
   "source": [
    "# Before log transformation\n",
    "sns.distplot(churn_df['cash_withdrawals_value'], bins = 100)\n",
    "plt.title(\"Before log-transformation - cash_withdrawals_value\")"
   ]
  },
  {
   "cell_type": "code",
   "execution_count": null,
   "metadata": {},
   "outputs": [],
   "source": [
    "#TASK:  Apply log transformation log(1+p)\n",
    "logged_var = np.log1p(churn_df[?????])"
   ]
  },
  {
   "cell_type": "code",
   "execution_count": null,
   "metadata": {},
   "outputs": [],
   "source": [
    "# After log transformation\n",
    "sns.distplot(logged_var, bins = 100)\n",
    "plt.title(\"After log-transformation - cash_withdrawals_value\")"
   ]
  },
  {
   "cell_type": "markdown",
   "metadata": {},
   "source": [
    "<a id='sec224'></a>\n",
    "### 4. Standardization\n",
    "Another transformation commonly applied is standardization. All inputs have mean of 0 and stdev of 1. The goal is to make input variables of different unit of measures comparable.\n",
    "\n",
    "    preprocessing.StandardScaler(): Standardize features by removing the mean and scaling to unit variance"
   ]
  },
  {
   "cell_type": "markdown",
   "metadata": {},
   "source": [
    "#### Apply standardization to numeric variable last_balance"
   ]
  },
  {
   "cell_type": "code",
   "execution_count": null,
   "metadata": {},
   "outputs": [],
   "source": [
    "sns.distplot(churn_df['last_balance'], bins = 100)\n",
    "plt.title(\"Before standardization - last_balance\")"
   ]
  },
  {
   "cell_type": "code",
   "execution_count": null,
   "metadata": {},
   "outputs": [],
   "source": [
    "# Use array.reshape(-1, 1) as our data set contains only one sample (one variable)\n",
    "x_array = np.array(churn_df['last_balance']).reshape(-1, 1)\n",
    "\n",
    "# Create the Scaler object\n",
    "scaler = preprocessing.StandardScaler()\n",
    "\n",
    "# Fit to data, then transform it \n",
    "stand_var = scaler.fit_transform(x_array)"
   ]
  },
  {
   "cell_type": "code",
   "execution_count": null,
   "metadata": {},
   "outputs": [],
   "source": [
    "# Visualisation after standardization\n",
    "sns.distplot(stand_var, bins = 100)\n",
    "plt.title(\"After standardization - last_balance\")"
   ]
  },
  {
   "cell_type": "markdown",
   "metadata": {},
   "source": [
    "### Write data file to disk"
   ]
  },
  {
   "cell_type": "code",
   "execution_count": null,
   "metadata": {},
   "outputs": [],
   "source": [
    "churn_df.to_pickle(\"churn_for_features.p\")"
   ]
  }
 ],
 "metadata": {
  "kernelspec": {
   "display_name": "Python 3",
   "language": "python",
   "name": "python3"
  },
  "language_info": {
   "codemirror_mode": {
    "name": "ipython",
    "version": 3
   },
   "file_extension": ".py",
   "mimetype": "text/x-python",
   "name": "python",
   "nbconvert_exporter": "python",
   "pygments_lexer": "ipython3",
   "version": "3.6.9"
  }
 },
 "nbformat": 4,
 "nbformat_minor": 2
}

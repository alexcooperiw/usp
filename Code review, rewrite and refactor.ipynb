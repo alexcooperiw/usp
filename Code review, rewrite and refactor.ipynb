{
 "cells": [
  {
   "cell_type": "markdown",
   "metadata": {},
   "source": [
    "# Code collaboration and sharing: Review, rewrite and refactor code"
   ]
  },
  {
   "cell_type": "markdown",
   "metadata": {},
   "source": [
    "### In this exercise, you are required to review a piece of code, and then reqrite and refactor it, according to clean code principles"
   ]
  },
  {
   "cell_type": "markdown",
   "metadata": {},
   "source": [
    "__Description:__\n",
    "* <a href = '#sec1'>Preliminary</a>\n",
    "* <a href = '#sec2'>Code review</a>\n",
    "* <a href = '#sec3'>Code rewrite and refactor</a>"
   ]
  },
  {
   "cell_type": "markdown",
   "metadata": {},
   "source": [
    "----\n",
    "<a id='sec1'></a>\n",
    "# Preliminary\n",
    "\n",
    "### Import required packages and change directory \n",
    "__Required packages:__ \n",
    "* os \n",
    "* numpy\n",
    "* pandas  \n",
    "\n",
    "<br>\n",
    "You can import packages using the \n",
    "\n",
    "    import\n",
    "\n",
    "command. In this module, we are working primarily with **pandas**, which is the standard package in Python for data manipulation."
   ]
  },
  {
   "cell_type": "code",
   "execution_count": 34,
   "metadata": {},
   "outputs": [],
   "source": [
    "import os\n",
    "import numpy as np\n",
    "import pandas as pd"
   ]
  },
  {
   "cell_type": "markdown",
   "metadata": {},
   "source": [
    "### The code to review\n",
    "\n",
    "#### The code is required to find the intersection of 2 lists of integer inputs.  Each element in the result should appear as many times as it shows in both arrays.  The result can be in any order."
   ]
  },
  {
   "cell_type": "code",
   "execution_count": 3,
   "metadata": {},
   "outputs": [
    {
     "name": "stdout",
     "output_type": "stream",
     "text": [
      "[2, 4]\n"
     ]
    }
   ],
   "source": [
    "nums1 = [1,2,2,3,4,4,5]\n",
    "nums2 = [2,4,4,2,6,8,10,12]\n",
    "\n",
    "result = []\n",
    "nums1.sort()\n",
    "nums2.sort()\n",
    "nums1p=0\n",
    "nums2p=0\n",
    "prev=nums1[0]-1\n",
    "while nums1p<len(nums1) and nums2p<len(nums2):\n",
    "    if nums1[nums1p]==nums2[nums2p]:\n",
    "        result.append(nums1[nums1p])\n",
    "        prev = nums1[nums1p]\n",
    "        nums1p = nums1p+1\n",
    "        nums2p = nums2p+1\n",
    "    elif nums1[nums1p]>nums2[nums2p]:\n",
    "        nums2p+=1\n",
    "    else:\n",
    "        nums1p+=1\n",
    "\n",
    "print(result)\n",
    "            "
   ]
  },
  {
   "cell_type": "markdown",
   "metadata": {},
   "source": [
    "<a id='sec2'></a>\n",
    "# Code review\n",
    "\n",
    "## Perform a code review of the above piece of code, adding clarifying comments, questions or suggestions  \n",
    "\n"
   ]
  },
  {
   "cell_type": "markdown",
   "metadata": {},
   "source": [
    "##### insert code review here"
   ]
  },
  {
   "cell_type": "code",
   "execution_count": null,
   "metadata": {},
   "outputs": [],
   "source": []
  },
  {
   "cell_type": "markdown",
   "metadata": {},
   "source": [
    "<a id='sec3'></a>\n",
    "# Code rewrite and refactor\n",
    "\n",
    "## Rewrite and refactor the above code using best practices to make it more concise and readable"
   ]
  },
  {
   "cell_type": "markdown",
   "metadata": {},
   "source": [
    "##### insert code rewrite and refactor here (hint: consider the package \"multiset\" ;))"
   ]
  },
  {
   "cell_type": "code",
   "execution_count": null,
   "metadata": {},
   "outputs": [],
   "source": []
  },
  {
   "cell_type": "markdown",
   "metadata": {},
   "source": [
    "# Well done!"
   ]
  }
 ],
 "metadata": {
  "kernelspec": {
   "display_name": "Python 3",
   "language": "python",
   "name": "python3"
  },
  "language_info": {
   "codemirror_mode": {
    "name": "ipython",
    "version": 3
   },
   "file_extension": ".py",
   "mimetype": "text/x-python",
   "name": "python",
   "nbconvert_exporter": "python",
   "pygments_lexer": "ipython3",
   "version": "3.7.4"
  }
 },
 "nbformat": 4,
 "nbformat_minor": 2
}

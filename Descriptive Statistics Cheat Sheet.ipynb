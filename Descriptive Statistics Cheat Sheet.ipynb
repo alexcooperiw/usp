{
 "cells": [
  {
   "cell_type": "markdown",
   "metadata": {},
   "source": [
    "# Descriptive Statistics Cheat Sheet"
   ]
  },
  {
   "cell_type": "markdown",
   "metadata": {},
   "source": [
    "__Description:__\n",
    "* <a href = '#sec1'>Preliminary</a>\n",
    "* <a href = '#sec2'>Descriptive statistics</a>"
   ]
  },
  {
   "cell_type": "markdown",
   "metadata": {},
   "source": [
    "----\n",
    "<a id='sec1'></a>\n",
    "# Preliminary\n",
    "\n",
    "### Import required packages and change directory "
   ]
  },
  {
   "cell_type": "code",
   "execution_count": null,
   "metadata": {},
   "outputs": [],
   "source": [
    "import os\n",
    "import numpy as np\n",
    "import pandas as pd\n",
    "import matplotlib.pyplot as plt\n",
    "import seaborn as sns\n",
    "\n",
    "# Set working directory\n",
    "#os.chdir(default_path)"
   ]
  },
  {
   "cell_type": "markdown",
   "metadata": {},
   "source": [
    "### Load data"
   ]
  },
  {
   "cell_type": "code",
   "execution_count": null,
   "metadata": {},
   "outputs": [],
   "source": [
    "# Load the data\n",
    "churn_df = pd.read_pickle(\"churn_for_engineering.p\")"
   ]
  },
  {
   "cell_type": "markdown",
   "metadata": {},
   "source": [
    "----\n",
    "\n",
    "<a id='sec2'></a>\n",
    "# Descriptive Statistics\n",
    "\n",
    "### Creating a summary table\n",
    "\n",
    "    describe(): Get summary of data"
   ]
  },
  {
   "cell_type": "code",
   "execution_count": null,
   "metadata": {},
   "outputs": [],
   "source": [
    "churn_df.describe()"
   ]
  },
  {
   "cell_type": "markdown",
   "metadata": {},
   "source": [
    "### Unique values & counts of \"profession\"\n",
    "     unique(): Get unique values of a column\n",
    "     value_counts(): Count occurences of each value in a column"
   ]
  },
  {
   "cell_type": "code",
   "execution_count": null,
   "metadata": {},
   "outputs": [],
   "source": [
    "# Display just the unique values\n",
    "churn_df.profession.unique()"
   ]
  },
  {
   "cell_type": "code",
   "execution_count": null,
   "metadata": {},
   "outputs": [],
   "source": [
    "# Display unique values, sorted by their count\n",
    "churn_df.profession.value_counts().head(10)"
   ]
  },
  {
   "cell_type": "markdown",
   "metadata": {},
   "source": [
    "###  Grouped Summary Statistics\n",
    "Run descriptive analyses grouped by our target __churn_flag__.\n",
    "\n",
    "    groupby('variable name'): variable will be used to group data, \n",
    "    all commands will be executed for each group individually"
   ]
  },
  {
   "cell_type": "code",
   "execution_count": null,
   "metadata": {},
   "outputs": [],
   "source": [
    "summary_grouped = churn_df.groupby('churn_flag').describe()\n",
    "summary_grouped"
   ]
  },
  {
   "cell_type": "code",
   "execution_count": null,
   "metadata": {},
   "outputs": [],
   "source": [
    "# Let's change the way the results are displayed\n",
    "# We can adjust various display options to customize the outputs; \n",
    "# in this case, we want to display up to 100 rows\n",
    "# With command \"T\" we can transpose the results\n",
    "pd.set_option('display.max_rows', 100)\n",
    "summary_grouped = churn_df.groupby('churn_flag').describe()\n",
    "summary_grouped.T"
   ]
  },
  {
   "cell_type": "code",
   "execution_count": null,
   "metadata": {},
   "outputs": [],
   "source": [
    "# This command resets the display options for DataFrames to the default\n",
    "pd.reset_option('display.max_rows')"
   ]
  },
  {
   "cell_type": "markdown",
   "metadata": {},
   "source": [
    "### Data aggregation\n",
    "We can also aggregate one variable by a specific group. Let's see how much cash customers withdraw on average depending whether they churn or not. Will there be any differences?\n",
    "\n",
    "    groupby('variable'): all calculations will be grouped by the specified variables\n",
    "    mean(): Calculates the mean of a column\n",
    "    agg(): Aggregate using one or more operations over several columns"
   ]
  },
  {
   "cell_type": "markdown",
   "metadata": {},
   "source": [
    "#### Aggregate of one variable"
   ]
  },
  {
   "cell_type": "code",
   "execution_count": null,
   "metadata": {},
   "outputs": [],
   "source": [
    "churn_df.groupby('churn_flag')['cash_withdrawals_value'].mean()"
   ]
  },
  {
   "cell_type": "markdown",
   "metadata": {},
   "source": [
    "#### Aggregate of multiple variables\n",
    "We can also specify several grouping variables"
   ]
  },
  {
   "cell_type": "code",
   "execution_count": null,
   "metadata": {},
   "outputs": [],
   "source": [
    "data_agg = churn_df.groupby(['churn_flag', 'gender'])['cash_withdrawals_value'].mean()\n",
    "data_agg.head(20)"
   ]
  },
  {
   "cell_type": "markdown",
   "metadata": {},
   "source": [
    "#### Multiple Aggregations\n",
    "We can also specify multiple aggregations for different variables"
   ]
  },
  {
   "cell_type": "code",
   "execution_count": null,
   "metadata": {},
   "outputs": [],
   "source": [
    "data_agg2 = churn_df.agg({'cash_withdrawals_value':['sum', 'max', 'min', 'mean'], 'credit_rating': ['sum','min', 'max', 'mean']})\n",
    "data_agg2.head()"
   ]
  },
  {
   "cell_type": "markdown",
   "metadata": {},
   "source": [
    "### Contigency tables\n",
    "Two-way tables, also known as contingency tables, are tables of two dimensions. \n",
    "\n",
    "    pd.crosstab(): Compute a simple cross tabulation of two (or more) factors. By default computes a frequency table of the factors unless an array of values and an aggregation function are passed."
   ]
  },
  {
   "cell_type": "code",
   "execution_count": null,
   "metadata": {},
   "outputs": [],
   "source": [
    "pd.crosstab(index=churn_df[\"churn_flag\"], columns=churn_df[\"gender\"])"
   ]
  }
 ],
 "metadata": {
  "kernelspec": {
   "display_name": "Python 3",
   "language": "python",
   "name": "python3"
  },
  "language_info": {
   "codemirror_mode": {
    "name": "ipython",
    "version": 3
   },
   "file_extension": ".py",
   "mimetype": "text/x-python",
   "name": "python",
   "nbconvert_exporter": "python",
   "pygments_lexer": "ipython3",
   "version": "3.7.4"
  }
 },
 "nbformat": 4,
 "nbformat_minor": 2
}
